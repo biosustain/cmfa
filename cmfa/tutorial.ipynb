{
 "cells": [
  {
   "cell_type": "markdown",
   "metadata": {},
   "source": [
    "# Tutorial with examples"
   ]
  },
  {
   "cell_type": "code",
   "execution_count": 1,
   "metadata": {},
   "outputs": [],
   "source": [
    "from cmfa.fluxomics_data.reaction import Reaction, AtomPattern\n",
    "from cmfa.fluxomics_data.reaction_network import ReactionNetwork\n",
    "from cmfa.data_preparation import import_fluxomics_dataset_from_json\n",
    "from cmfa.fluxomics_data.emu import EMU, EMUReaction\n"
   ]
  },
  {
   "cell_type": "code",
   "execution_count": 2,
   "metadata": {},
   "outputs": [
    {
     "data": {
      "text/plain": [
       "'/Users/te/Library/CloudStorage/OneDrive-Personal/Biosustain/cmfa/cmfa/../data/test_data'"
      ]
     },
     "execution_count": 2,
     "metadata": {},
     "output_type": "execute_result"
    }
   ],
   "source": [
    "import os\n",
    "\n",
    "CUR_DIR = os.getcwd()\n",
    "TEST_DIR = f'{CUR_DIR}/../data/test_data'\n",
    "\n",
    "TEST_DIR"
   ]
  },
  {
   "cell_type": "code",
   "execution_count": 3,
   "metadata": {},
   "outputs": [],
   "source": [
    "model = import_fluxomics_dataset_from_json(f'{TEST_DIR}/model.json')"
   ]
  },
  {
   "cell_type": "code",
   "execution_count": 4,
   "metadata": {},
   "outputs": [
    {
     "data": {
      "text/plain": [
       "Reaction id=R4, name=R4,stoichiometry={'B': {abc: -1.0}, 'C': {de: -1.0}, 'D': {bcd: 1.0}, 'E': {a: 1.0, e: 1.0}},reversible=False, "
      ]
     },
     "execution_count": 4,
     "metadata": {},
     "output_type": "execute_result"
    }
   ],
   "source": [
    "model.reaction_network.R4"
   ]
  },
  {
   "cell_type": "code",
   "execution_count": 5,
   "metadata": {},
   "outputs": [
    {
     "name": "stdout",
     "output_type": "stream",
     "text": [
      "compound           A         B     C         D               E           F\n",
      "pattern          abc       abc    bc  de   abc   bcd         a     e   abc\n",
      "compound pattern                                                          \n",
      "A        abc      []      [R1]    []  []    []    []        []    []    []\n",
      "B        abc      []        []  [R3]  []  [R2]  [R4]  [R3, R4]    []    []\n",
      "C        bc       []        []    []  []    []    []        []    []    []\n",
      "         de       []        []    []  []    []  [R4]        []  [R4]    []\n",
      "D        abc      []  [R2_rev]    []  []    []    []        []    []  [R5]\n",
      "         bcd      []        []    []  []    []    []        []    []    []\n",
      "E        a        []        []    []  []    []    []        []    []    []\n",
      "         e        []        []    []  []    []    []        []    []    []\n",
      "F        abc      []        []    []  []    []    []        []    []    []\n"
     ]
    }
   ],
   "source": [
    "print(model.reaction_network.reaction_adjacency_matrix())"
   ]
  },
  {
   "cell_type": "code",
   "execution_count": 6,
   "metadata": {},
   "outputs": [
    {
     "name": "stdout",
     "output_type": "stream",
     "text": [
      "([reaction id: R4, EMU stoichiometry: {'B_23': -1.0, 'C_1': -1.0, 'D_123': 1.0}], {EMU id: D_123, compound id: D, atom pattern: (1, 2, 3), EMU id: C_1, compound id: C, atom pattern: (1,), EMU id: B_23, compound id: B, atom pattern: (2, 3)})\n"
     ]
    }
   ],
   "source": [
    "def atom_mapping_to_reaction(emu: EMU, reaction: Reaction, reverse: bool=False) -> list:\n",
    "    \"\"\"\n",
    "    Given an EMU and reaction information, returns an EMUReaction object.\n",
    "    \"\"\"\n",
    "    try:\n",
    "        atom_transitions = reaction.stoichiometry_input[emu.compound].keys()\n",
    "    except:\n",
    "        raise ValueError(f\"Cannot find the EMU compound in the corresponding reaction\")\n",
    "\n",
    "    emu_reactions = []\n",
    "    # Use emu to find matching atoms in given compounds.\n",
    "    # TODO: What if the emu matches two same compounds in reaction\n",
    "    for transition in atom_transitions:\n",
    "        adjusted_indices = [i - 1 for i in emu.atom_number]\n",
    "        try:\n",
    "            matched_atoms = ''.join(transition[i] for i in adjusted_indices)\n",
    "        except:\n",
    "            raise ValueError(f\"Cannot find atoms in compound {emu.compound} with indices {emu.atom_number_input}\")\n",
    "\n",
    "        # Extracting the stoichiometry for the specific EMU\n",
    "        emu_stoichiometry = {}\n",
    "        emu_reactants = {emu}\n",
    "        for cpd, stoich in reaction.stoichiometry_input.items():\n",
    "            # new_stoich = {}\n",
    "            for pattern, coeff in stoich.items():\n",
    "                if cpd == emu.compound: # Add the original EMU\n",
    "                    # new_stoich[emu.atom_number_input] = -coeff if reverse else coeff\n",
    "                    # emu_stoichiometry[cpd] = new_stoich\n",
    "                    emu_stoichiometry[emu.id] = -coeff if reverse else coeff\n",
    "\n",
    "                elif (not reverse and coeff < 0) or (reverse and reaction.reversible and coeff > 0):\n",
    "                    # For matched reactants or products in reverse reaction\n",
    "                    reactant_matched_atom_number = _find_matchable_atoms(pattern, matched_atoms)\n",
    "                    if len(reactant_matched_atom_number) != 0:\n",
    "                        emu_id = f\"{cpd}_{reactant_matched_atom_number}\"\n",
    "                        emu_reactants.add(EMU(id=emu_id, compound=cpd, atom_number_input=reactant_matched_atom_number))\n",
    "                        # emu_stoichiometry.setdefault(cpd, {})[reactant_matched_atom_number] = -coeff if reverse else coeff\n",
    "                        emu_stoichiometry[emu_id] = -coeff if reverse else coeff\n",
    "\n",
    "        emu_reactions.append(EMUReaction(reaction_id=reaction.id, emu_stoichiometry=emu_stoichiometry))\n",
    "\n",
    "    return emu_reactions, set(emu_reactants)\n",
    "\n",
    "def _find_matchable_atoms(pattern: str, matched_atoms: str):\n",
    "    \n",
    "    \"\"\"\n",
    "    Finds matchable atoms between a pattern and matched_atoms, returning the positions as a string.\n",
    "    \"\"\"\n",
    "    matched_pattern = [str(pattern.index(char) + 1) for char in matched_atoms if char in pattern]\n",
    "    return ''.join(sorted(matched_pattern))\n",
    "\n",
    "\n",
    "# Example Usage\n",
    "product_emu = EMU(id=\"D_123\", compound=\"D\", atom_number_input=\"123\")\n",
    "reaction = Reaction(id='R4', name='R4', stoichiometry_input={'B': {\"abc\": -1.0}, 'C': {\"de\": -1.0}, 'D': {\"bcd\": 1.0}, 'E': {\"a\": 1.0, \"e\": 1.0}}, reversible=True)\n",
    "\n",
    "emu_reaction = atom_mapping_to_reaction(product_emu, reaction, reverse=False)\n",
    "print(emu_reaction)\n"
   ]
  },
  {
   "cell_type": "code",
   "execution_count": 7,
   "metadata": {},
   "outputs": [],
   "source": [
    "def find_participated_reactions(cur_emu, MAM):\n",
    "    \"\"\"\n",
    "    Identifies the reactions in which a given EMU participates within the Metabolite Adjacency Matrix (MAM).\n",
    "    \n",
    "    Parameters:\n",
    "    - MAM: DataFrame representing the Metabolite Adjacency Matrix with multi-index columns.\n",
    "    - cur_emu: The current EMU object, expected to have at least a 'compound' attribute.\n",
    "    \n",
    "    Returns:\n",
    "    - A DataFrame filtered to show only the reactions (columns) in which the current EMU's compound participates.\n",
    "      The cells are boolean, indicating whether the reaction is non-empty (True) or not (False).\n",
    "    \"\"\"\n",
    "    # Extract reactions for the current EMU's compound\n",
    "    participated_reactions = MAM.xs(cur_emu.compound, level=0, axis=1).map(\n",
    "        lambda x: x if isinstance(x, list) and len(x) > 0 else [])\n",
    "    \n",
    "    all_participated_reactions = set(item for sublist in participated_reactions.values.flatten() for item in sublist)\n",
    "    return all_participated_reactions\n"
   ]
  },
  {
   "cell_type": "code",
   "execution_count": 8,
   "metadata": {},
   "outputs": [],
   "source": [
    "import pandas as pd\n",
    "import re\n",
    "from collections import deque\n",
    "\n",
    "def decompose_network(\n",
    "    target_EMU: EMU, reaction_network: ReactionNetwork\n",
    ") -> pd.DataFrame:\n",
    "    \"\"\"\n",
    "    Return a EMU map with a list of EMUs based on the target compound from the reaction network. \n",
    "    \"\"\"\n",
    "    MAM = reaction_network.reaction_adjacency_matrix()\n",
    "    queue = deque([target_EMU])\n",
    "    visited = set()\n",
    "    emu_maps = {}\n",
    "    emu_cpd_list = {}\n",
    "\n",
    "    while queue:\n",
    "        # Keep poping new EMU added from previous round.\n",
    "        cur_emu = queue.popleft()\n",
    "        # print(f\"Current EMU: {cur_emu.compound}, have visited {visited}\")\n",
    "        if cur_emu in visited:\n",
    "            continue\n",
    "        visited.add(cur_emu)\n",
    "\n",
    "        # Add new EMU map if the EMU size is not added\n",
    "        emu_size = cur_emu.size\n",
    "        if emu_size not in emu_maps:\n",
    "            emu_maps[emu_size] = []\n",
    "            emu_cpd_list[emu_size] = []\n",
    "        \n",
    "        # Find the reaction that is participated in the current emu\n",
    "        participated_reactions = find_participated_reactions(cur_emu, MAM)\n",
    "        new_map = []\n",
    "        emus = []\n",
    "        for r in participated_reactions:\n",
    "            # Handle forward and reverse case\n",
    "            # \n",
    "            if r.endswith('_rev'):\n",
    "                new_emu_reactions, new_emus = atom_mapping_to_reaction(cur_emu, reaction_network.find_reaction_by_id(r[:-4]), reverse=True)\n",
    "            else:\n",
    "                new_emu_reactions, new_emus = atom_mapping_to_reaction(cur_emu, reaction_network.find_reaction_by_id(r), reverse=False)\n",
    "            # print(new_emu_reactions, new_emus)\n",
    "            new_map.append(new_emu_reactions)\n",
    "            emus.append(new_emus)\n",
    "            # TODO: Find equivalent EMUs\n",
    "            for e in new_emus:\n",
    "                if e not in visited and e not in queue:\n",
    "                    queue.append(e)\n",
    "                if e not in emu_cpd_list[emu_size]:\n",
    "                    emu_cpd_list[emu_size] += [e]\n",
    "        \n",
    "        # Prepare results for return\n",
    "        # for e in emus:\n",
    "        #     if e not in emu_cpd_list[emu_size]:\n",
    "        #         emu_cpd_list[emu_size] += [e]\n",
    "        if len(new_map) > 0:\n",
    "            # emu_maps[emu_size].setdefault(cur_emu, []).append(new_map)\n",
    "            for i in new_map:\n",
    "                emu_maps[emu_size] += i\n",
    "            \n",
    "    return emu_maps, emu_cpd_list\n",
    "\n"
   ]
  },
  {
   "cell_type": "code",
   "execution_count": 9,
   "metadata": {},
   "outputs": [
    {
     "data": {
      "text/plain": [
       "{3: [EMU id: F_123, compound id: F, atom pattern: (1, 2, 3),\n",
       "  EMU id: D_123, compound id: D, atom pattern: (1, 2, 3),\n",
       "  EMU id: C_1, compound id: C, atom pattern: (1,),\n",
       "  EMU id: B_23, compound id: B, atom pattern: (2, 3),\n",
       "  EMU id: B_123, compound id: B, atom pattern: (1, 2, 3),\n",
       "  EMU id: A_123, compound id: A, atom pattern: (1, 2, 3)],\n",
       " 1: [EMU id: C_1, compound id: C, atom pattern: (1,),\n",
       "  EMU id: B_2, compound id: B, atom pattern: (2,),\n",
       "  EMU id: D_2, compound id: D, atom pattern: (2,),\n",
       "  EMU id: A_2, compound id: A, atom pattern: (2,),\n",
       "  EMU id: B_3, compound id: B, atom pattern: (3,),\n",
       "  EMU id: D_3, compound id: D, atom pattern: (3,),\n",
       "  EMU id: A_3, compound id: A, atom pattern: (3,)],\n",
       " 2: [EMU id: D_23, compound id: D, atom pattern: (2, 3),\n",
       "  EMU id: B_23, compound id: B, atom pattern: (2, 3),\n",
       "  EMU id: A_23, compound id: A, atom pattern: (2, 3),\n",
       "  EMU id: C_1, compound id: C, atom pattern: (1,),\n",
       "  EMU id: B_3, compound id: B, atom pattern: (3,)]}"
      ]
     },
     "execution_count": 9,
     "metadata": {},
     "output_type": "execute_result"
    }
   ],
   "source": [
    "f_emu = EMU(id='F_123', compound='F', atom_number_input='123')\n",
    "emu_network, emu_set = decompose_network(f_emu, model.reaction_network)\n",
    "emu_set"
   ]
  },
  {
   "cell_type": "code",
   "execution_count": 10,
   "metadata": {},
   "outputs": [
    {
     "data": {
      "text/plain": [
       "{3: [reaction id: R5, EMU stoichiometry: {'D_123': -1.0, 'F_123': 1.0},\n",
       "  reaction id: R4, EMU stoichiometry: {'B_23': -1.0, 'C_1': -1.0, 'D_123': 1.0},\n",
       "  reaction id: R2, EMU stoichiometry: {'B_123': -1.0, 'D_123': 1.0},\n",
       "  reaction id: R2, EMU stoichiometry: {'B_123': 1.0, 'D_123': -1.0},\n",
       "  reaction id: R1, EMU stoichiometry: {'A_123': -1.0, 'B_123': 1.0}],\n",
       " 1: [reaction id: R3, EMU stoichiometry: {'B_2': -1.0, 'C_1': 1.0},\n",
       "  reaction id: R2, EMU stoichiometry: {'B_2': 1.0, 'D_2': -1.0},\n",
       "  reaction id: R1, EMU stoichiometry: {'A_2': -1.0, 'B_2': 1.0},\n",
       "  reaction id: R4, EMU stoichiometry: {'B_3': -1.0, 'D_2': 1.0},\n",
       "  reaction id: R2, EMU stoichiometry: {'B_2': -1.0, 'D_2': 1.0},\n",
       "  reaction id: R2, EMU stoichiometry: {'B_3': 1.0, 'D_3': -1.0},\n",
       "  reaction id: R1, EMU stoichiometry: {'A_3': -1.0, 'B_3': 1.0},\n",
       "  reaction id: R4, EMU stoichiometry: {'C_1': -1.0, 'D_3': 1.0},\n",
       "  reaction id: R2, EMU stoichiometry: {'B_3': -1.0, 'D_3': 1.0}],\n",
       " 2: [reaction id: R2, EMU stoichiometry: {'B_23': 1.0, 'D_23': -1.0},\n",
       "  reaction id: R1, EMU stoichiometry: {'A_23': -1.0, 'B_23': 1.0},\n",
       "  reaction id: R4, EMU stoichiometry: {'B_3': -1.0, 'C_1': -1.0, 'D_23': 1.0},\n",
       "  reaction id: R2, EMU stoichiometry: {'B_23': -1.0, 'D_23': 1.0}]}"
      ]
     },
     "execution_count": 10,
     "metadata": {},
     "output_type": "execute_result"
    }
   ],
   "source": [
    "emu_network"
   ]
  },
  {
   "cell_type": "code",
   "execution_count": 60,
   "metadata": {},
   "outputs": [
    {
     "name": "stdout",
     "output_type": "stream",
     "text": [
      "('A_2', 'C_1', 'B_3', 'A_3', 'B_2', 'D_3', 'D_2')\n"
     ]
    }
   ],
   "source": [
    "reactants = set()\n",
    "products = set()\n",
    "\n",
    "for reaction in emu_network[1]:\n",
    "    reactant_list = reaction.reactants\n",
    "    product_list = reaction.products\n",
    "    \n",
    "    if len(reactant_list) > 1:\n",
    "        reactants.add(\" * \".join(reactant_list))\n",
    "    else:\n",
    "        reactants.update(reactant_list)\n",
    "    \n",
    "    if len(product_list) > 1:\n",
    "        products.add(\" * \".join(product_list))\n",
    "    else:\n",
    "        products.update(product_list)\n",
    "\n",
    "# Combine reactants and products into a single tuple for output\n",
    "combined_output = tuple(reactants.union(products))\n",
    "print(combined_output)"
   ]
  },
  {
   "cell_type": "code",
   "execution_count": 62,
   "metadata": {},
   "outputs": [
    {
     "name": "stdout",
     "output_type": "stream",
     "text": [
      "R3 {'B_2': -1.0, 'C_1': 1.0}\n",
      "R2 {'B_2': 1.0, 'D_2': -1.0}\n",
      "R1 {'A_2': -1.0, 'B_2': 1.0}\n",
      "R4 {'B_3': -1.0, 'D_2': 1.0}\n",
      "R2 {'B_2': -1.0, 'D_2': 1.0}\n",
      "R2 {'B_3': 1.0, 'D_3': -1.0}\n",
      "R1 {'A_3': -1.0, 'B_3': 1.0}\n",
      "R4 {'C_1': -1.0, 'D_3': 1.0}\n",
      "R2 {'B_3': -1.0, 'D_3': 1.0}\n"
     ]
    }
   ],
   "source": [
    "for reaction in emu_network[1]:\n",
    "    print(reaction.reaction_id, reaction.emu_stoichiometry)"
   ]
  },
  {
   "cell_type": "code",
   "execution_count": 63,
   "metadata": {},
   "outputs": [
    {
     "name": "stdout",
     "output_type": "stream",
     "text": [
      "R3 1.0\n",
      "R2 -1.0\n",
      "R1 1.0\n",
      "R4 1.0\n",
      "R2 1.0\n",
      "R2 -1.0\n",
      "R1 1.0\n",
      "R4 1.0\n",
      "R2 1.0\n",
      "     A_2        C_1         B_3  A_3         B_2        D_3        D_2\n",
      "A_2  NaN        NaN         NaN  NaN   [1.0, R1]        NaN        NaN\n",
      "C_1  NaN        NaN         NaN  NaN         NaN  [1.0, R4]        NaN\n",
      "B_3  NaN        NaN         NaN  NaN         NaN  [1.0, R2]  [1.0, R4]\n",
      "A_3  NaN        NaN   [1.0, R1]  NaN         NaN        NaN        NaN\n",
      "B_2  NaN  [1.0, R3]         NaN  NaN         NaN        NaN  [1.0, R2]\n",
      "D_3  NaN        NaN  [-1.0, R2]  NaN         NaN        NaN        NaN\n",
      "D_2  NaN        NaN         NaN  NaN  [-1.0, R2]        NaN        NaN\n"
     ]
    }
   ],
   "source": [
    "import pandas as pd\n",
    "\n",
    "def create_emu_stoichiometry_matrix(emu_network, emu_size):\n",
    "\n",
    "    # Create matrix indices\n",
    "    reactants = set()\n",
    "    products = set()\n",
    "\n",
    "    for reaction in emu_network[emu_size]:\n",
    "        # Directly extend the sets without checking the length\n",
    "        reactants.update([\" * \".join(reaction.reactants)])\n",
    "        products.update([\" * \".join(reaction.products)])\n",
    "\n",
    "    # Combine reactants and products into a single tuple for output\n",
    "    indices = tuple(reactants.union(products))\n",
    "    \n",
    "    # Initialize the DataFrame with indices for both rows and columns\n",
    "    matrix = pd.DataFrame(index=indices, columns=indices, data=[])\n",
    "    # Populate the matrix\n",
    "    for reaction in emu_network[emu_size]: \n",
    "        row_key, col_key = None, None  # Initialize keys\n",
    "        \n",
    "        for emu_id, stoich in reaction.emu_stoichiometry.items():\n",
    "            if stoich < 0:  # Reactant\n",
    "                for idx in indices:\n",
    "                    # Find the matching reactant row\n",
    "                    if emu_id in idx.split(' * '):\n",
    "                        row_key = idx\n",
    "                        \n",
    "            elif stoich > 0:  # Product\n",
    "                for idx in indices:\n",
    "                    # Find the matching product column\n",
    "                    if emu_id in idx.split(' * '):\n",
    "                        col_key = idx\n",
    "                \n",
    "            # Update the matrix cell with reaction ID and stoichiometry\n",
    "            if row_key and col_key:\n",
    "                cell_value = [stoich, reaction.reaction_id]\n",
    "                matrix.at[row_key, col_key] = cell_value\n",
    "\n",
    "    return matrix\n",
    "\n",
    "matrix = create_emu_stoichiometry_matrix(emu_network, 1)\n",
    "print(matrix)\n"
   ]
  },
  {
   "cell_type": "code",
   "execution_count": 59,
   "metadata": {},
   "outputs": [
    {
     "name": "stdout",
     "output_type": "stream",
     "text": [
      "Matrix A:\n",
      "              C_1                      B_3                      B_2  \\\n",
      "C_1  [[-1.0, R3]]                      NaN               [-1.0, R3]   \n",
      "B_3           NaN  [[1.0, R2], [-1.0, R1]]                      NaN   \n",
      "B_2           NaN                      NaN  [[1.0, R2], [-1.0, R1]]   \n",
      "D_3    [-1.0, R4]               [-1.0, R2]                      NaN   \n",
      "D_2           NaN               [-1.0, R4]               [-1.0, R2]   \n",
      "\n",
      "                          D_3                       D_2  \n",
      "C_1                       NaN                       NaN  \n",
      "B_3                 [1.0, R2]                       NaN  \n",
      "B_2                       NaN                 [1.0, R2]  \n",
      "D_3  [[-1.0, R4], [-1.0, R2]]                       NaN  \n",
      "D_2                       NaN  [[-1.0, R4], [-1.0, R2]]  \n",
      "\n",
      "Matrix B:\n",
      "            A_2         A_3\n",
      "C_1         NaN         NaN\n",
      "B_3         NaN  [-1.0, R1]\n",
      "B_2  [-1.0, R1]         NaN\n",
      "D_3         NaN         NaN\n",
      "D_2         NaN         NaN\n"
     ]
    }
   ],
   "source": [
    "import pandas as pd\n",
    "import numpy as np\n",
    "\n",
    "def process_and_split_matrix(matrix):\n",
    "    # Remove columns with all NaN values\n",
    "    cleaned_matrix = matrix.dropna(axis=1, how='all')\n",
    "    \n",
    "    # Identify the row indices to split the matrix\n",
    "    split_indices = [idx for idx in matrix.index if idx not in cleaned_matrix.columns]\n",
    "    \n",
    "    # Split the matrix into two based on the identified indices\n",
    "    matrix_A = (cleaned_matrix.loc[~cleaned_matrix.index.isin(split_indices)]).T\n",
    "    matrix_B = (cleaned_matrix.loc[cleaned_matrix.index.isin(split_indices)]).T\n",
    "    \n",
    "    # Adjust the diagonal of the first matrix\n",
    "    for i in range(len(matrix_A)):\n",
    "        # Get non-NaN values from the row\n",
    "        non_nan_values = matrix_A.iloc[i].dropna().tolist()\n",
    "        non_nan_values +=(matrix_B.iloc[i].dropna().tolist())\n",
    "        for item in non_nan_values:\n",
    "            item[0] = -item[0]\n",
    "        # Assign the list to the diagonal element\n",
    "        matrix_A.iat[i, i] = non_nan_values\n",
    "    \n",
    "    return matrix_A, matrix_B\n",
    "\n",
    "# Example usage\n",
    "# Assuming 'matrix' is a DataFrame obtained from the previous steps\n",
    "matrix_1_transposed, matrix_2_transposed = process_and_split_matrix(matrix)\n",
    "print(\"Matrix A:\")\n",
    "print(matrix_1_transposed)\n",
    "print(\"\\nMatrix B:\")\n",
    "print(matrix_2_transposed)\n"
   ]
  },
  {
   "cell_type": "code",
   "execution_count": null,
   "metadata": {},
   "outputs": [],
   "source": [
    "def create_emu_map_matrix(emu_network, emu_index):\n",
    "    matrix = pd.DataFrame(index=emu_index, column=emu_index)"
   ]
  },
  {
   "cell_type": "code",
   "execution_count": null,
   "metadata": {},
   "outputs": [],
   "source": []
  }
 ],
 "metadata": {
  "kernelspec": {
   "display_name": "Python 3",
   "language": "python",
   "name": "python3"
  },
  "language_info": {
   "codemirror_mode": {
    "name": "ipython",
    "version": 3
   },
   "file_extension": ".py",
   "mimetype": "text/x-python",
   "name": "python",
   "nbconvert_exporter": "python",
   "pygments_lexer": "ipython3",
   "version": "3.12.0"
  }
 },
 "nbformat": 4,
 "nbformat_minor": 2
}

{
 "cells": [
  {
   "cell_type": "markdown",
   "metadata": {},
   "source": [
    "# Tutorial with examples"
   ]
  },
  {
   "cell_type": "code",
   "execution_count": 1,
   "metadata": {},
   "outputs": [],
   "source": [
    "from cmfa.fluxomics_data.reaction import Reaction, AtomPattern\n",
    "from cmfa.fluxomics_data.reaction_network import ReactionNetwork\n",
    "from cmfa.data_preparation import import_fluxomics_dataset_from_json\n",
    "from cmfa.fluxomics_data.emu import EMU, EMUReaction\n"
   ]
  },
  {
   "cell_type": "code",
   "execution_count": 2,
   "metadata": {},
   "outputs": [
    {
     "data": {
      "text/plain": [
       "'/Users/te/Library/CloudStorage/OneDrive-Personal/Biosustain/cmfa/cmfa/../data/test_data'"
      ]
     },
     "execution_count": 2,
     "metadata": {},
     "output_type": "execute_result"
    }
   ],
   "source": [
    "import os\n",
    "\n",
    "CUR_DIR = os.getcwd()\n",
    "TEST_DIR = f'{CUR_DIR}/../data/test_data'\n",
    "\n",
    "TEST_DIR"
   ]
  },
  {
   "cell_type": "code",
   "execution_count": 3,
   "metadata": {},
   "outputs": [],
   "source": [
    "model = import_fluxomics_dataset_from_json(f'{TEST_DIR}/model.json')"
   ]
  },
  {
   "cell_type": "code",
   "execution_count": 4,
   "metadata": {},
   "outputs": [
    {
     "data": {
      "text/plain": [
       "Reaction id=R4, name=R4,stoichiometry={'B': {abc: -1.0}, 'C': {de: -1.0}, 'D': {bcd: 1.0}, 'E': {a: 1.0, e: 1.0}},reversible=False, "
      ]
     },
     "execution_count": 4,
     "metadata": {},
     "output_type": "execute_result"
    }
   ],
   "source": [
    "model.reaction_network.R4"
   ]
  },
  {
   "cell_type": "code",
   "execution_count": 5,
   "metadata": {},
   "outputs": [
    {
     "name": "stdout",
     "output_type": "stream",
     "text": [
      "compound           A         B     C         D               E           F\n",
      "pattern          abc       abc    bc  de   abc   bcd         a     e   abc\n",
      "compound pattern                                                          \n",
      "A        abc      []      [R1]    []  []    []    []        []    []    []\n",
      "B        abc      []        []  [R3]  []  [R2]  [R4]  [R3, R4]    []    []\n",
      "C        bc       []        []    []  []    []    []        []    []    []\n",
      "         de       []        []    []  []    []  [R4]        []  [R4]    []\n",
      "D        abc      []  [R2_rev]    []  []    []    []        []    []  [R5]\n",
      "         bcd      []        []    []  []    []    []        []    []    []\n",
      "E        a        []        []    []  []    []    []        []    []    []\n",
      "         e        []        []    []  []    []    []        []    []    []\n",
      "F        abc      []        []    []  []    []    []        []    []    []\n"
     ]
    }
   ],
   "source": [
    "print(model.reaction_network.reaction_adjacency_matrix())"
   ]
  },
  {
   "cell_type": "code",
   "execution_count": 6,
   "metadata": {},
   "outputs": [
    {
     "name": "stdout",
     "output_type": "stream",
     "text": [
      "([reaction id: R4, EMU stoichiometry: {'B_23': -1.0, 'C_1': -1.0, 'D_123': 1.0}], {EMU id: D_123, compound id: D, atom pattern: (1, 2, 3), EMU id: C_1, compound id: C, atom pattern: (1,), EMU id: B_23, compound id: B, atom pattern: (2, 3)})\n"
     ]
    }
   ],
   "source": [
    "def atom_mapping_to_reaction(emu: EMU, reaction: Reaction, reverse: bool=False) -> list:\n",
    "    \"\"\"\n",
    "    Given an EMU and reaction information, returns an EMUReaction object.\n",
    "    \"\"\"\n",
    "    try:\n",
    "        atom_transitions = reaction.stoichiometry_input[emu.compound].keys()\n",
    "    except:\n",
    "        raise ValueError(f\"Cannot find the EMU compound in the corresponding reaction\")\n",
    "\n",
    "    emu_reactions = []\n",
    "    # Use emu to find matching atoms in given compounds.\n",
    "    # TODO: What if the emu matches two same compounds in reaction\n",
    "    for transition in atom_transitions:\n",
    "        adjusted_indices = [i - 1 for i in emu.atom_number]\n",
    "        try:\n",
    "            matched_atoms = ''.join(transition[i] for i in adjusted_indices)\n",
    "        except:\n",
    "            raise ValueError(f\"Cannot find atoms in compound {emu.compound} with indices {emu.atom_number_input}\")\n",
    "\n",
    "        # Extracting the stoichiometry for the specific EMU\n",
    "        emu_stoichiometry = {}\n",
    "        emu_reactants = {emu}\n",
    "        for cpd, stoich in reaction.stoichiometry_input.items():\n",
    "            # new_stoich = {}\n",
    "            for pattern, coeff in stoich.items():\n",
    "                if cpd == emu.compound: # Add the original EMU\n",
    "                    # new_stoich[emu.atom_number_input] = -coeff if reverse else coeff\n",
    "                    # emu_stoichiometry[cpd] = new_stoich\n",
    "                    emu_stoichiometry[emu.id] = -coeff if reverse else coeff\n",
    "\n",
    "                elif (not reverse and coeff < 0) or (reverse and reaction.reversible and coeff > 0):\n",
    "                    # For matched reactants or products in reverse reaction\n",
    "                    reactant_matched_atom_number = _find_matchable_atoms(pattern, matched_atoms)\n",
    "                    if len(reactant_matched_atom_number) != 0:\n",
    "                        emu_id = f\"{cpd}_{reactant_matched_atom_number}\"\n",
    "                        emu_reactants.add(EMU(id=emu_id, compound=cpd, atom_number_input=reactant_matched_atom_number))\n",
    "                        # emu_stoichiometry.setdefault(cpd, {})[reactant_matched_atom_number] = -coeff if reverse else coeff\n",
    "                        emu_stoichiometry[emu_id] = -coeff if reverse else coeff\n",
    "\n",
    "        emu_reactions.append(EMUReaction(reaction_id=reaction.id, emu_stoichiometry=emu_stoichiometry))\n",
    "\n",
    "    return emu_reactions, set(emu_reactants)\n",
    "\n",
    "def _find_matchable_atoms(pattern: str, matched_atoms: str):\n",
    "    \n",
    "    \"\"\"\n",
    "    Finds matchable atoms between a pattern and matched_atoms, returning the positions as a string.\n",
    "    \"\"\"\n",
    "    matched_pattern = [str(pattern.index(char) + 1) for char in matched_atoms if char in pattern]\n",
    "    return ''.join(sorted(matched_pattern))\n",
    "\n",
    "\n",
    "# Example Usage\n",
    "product_emu = EMU(id=\"D_123\", compound=\"D\", atom_number_input=\"123\")\n",
    "reaction = Reaction(id='R4', name='R4', stoichiometry_input={'B': {\"abc\": -1.0}, 'C': {\"de\": -1.0}, 'D': {\"bcd\": 1.0}, 'E': {\"a\": 1.0, \"e\": 1.0}}, reversible=True)\n",
    "\n",
    "emu_reaction = atom_mapping_to_reaction(product_emu, reaction, reverse=False)\n",
    "print(emu_reaction)\n"
   ]
  },
  {
   "cell_type": "code",
   "execution_count": 7,
   "metadata": {},
   "outputs": [],
   "source": [
    "def find_participated_reactions(cur_emu, MAM):\n",
    "    \"\"\"\n",
    "    Identifies the reactions in which a given EMU participates within the Metabolite Adjacency Matrix (MAM).\n",
    "    \n",
    "    Parameters:\n",
    "    - MAM: DataFrame representing the Metabolite Adjacency Matrix with multi-index columns.\n",
    "    - cur_emu: The current EMU object, expected to have at least a 'compound' attribute.\n",
    "    \n",
    "    Returns:\n",
    "    - A DataFrame filtered to show only the reactions (columns) in which the current EMU's compound participates.\n",
    "      The cells are boolean, indicating whether the reaction is non-empty (True) or not (False).\n",
    "    \"\"\"\n",
    "    # Extract reactions for the current EMU's compound\n",
    "    participated_reactions = MAM.xs(cur_emu.compound, level=0, axis=1).map(\n",
    "        lambda x: x if isinstance(x, list) and len(x) > 0 else [])\n",
    "    \n",
    "    all_participated_reactions = set(item for sublist in participated_reactions.values.flatten() for item in sublist)\n",
    "    return all_participated_reactions\n"
   ]
  },
  {
   "cell_type": "code",
   "execution_count": 8,
   "metadata": {},
   "outputs": [],
   "source": [
    "import pandas as pd\n",
    "import re\n",
    "from collections import deque\n",
    "\n",
    "def decompose_network(\n",
    "    target_EMU: EMU, reaction_network: ReactionNetwork\n",
    ") -> pd.DataFrame:\n",
    "    \"\"\"\n",
    "    Return a EMU map with a list of EMUs based on the target compound from the reaction network. \n",
    "    \"\"\"\n",
    "    MAM = reaction_network.reaction_adjacency_matrix()\n",
    "    queue = deque([target_EMU])\n",
    "    visited = set()\n",
    "    emu_maps = {}\n",
    "    emu_cpd_list = {}\n",
    "\n",
    "    while queue:\n",
    "        # Keep poping new EMU added from previous round.\n",
    "        cur_emu = queue.popleft()\n",
    "        # print(f\"Current EMU: {cur_emu.compound}, have visited {visited}\")\n",
    "        if cur_emu in visited:\n",
    "            continue\n",
    "        visited.add(cur_emu)\n",
    "\n",
    "        # Add new EMU map if the EMU size is not added\n",
    "        emu_size = cur_emu.size\n",
    "        if emu_size not in emu_maps:\n",
    "            emu_maps[emu_size] = []\n",
    "            emu_cpd_list[emu_size] = []\n",
    "        \n",
    "        # Find the reaction that is participated in the current emu\n",
    "        participated_reactions = find_participated_reactions(cur_emu, MAM)\n",
    "        new_map = []\n",
    "        emus = []\n",
    "        for r in participated_reactions:\n",
    "            # Handle forward and reverse case\n",
    "            # \n",
    "            if r.endswith('_rev'):\n",
    "                new_emu_reactions, new_emus = atom_mapping_to_reaction(cur_emu, reaction_network.find_reaction_by_id(r[:-4]), reverse=True)\n",
    "            else:\n",
    "                new_emu_reactions, new_emus = atom_mapping_to_reaction(cur_emu, reaction_network.find_reaction_by_id(r), reverse=False)\n",
    "            # print(new_emu_reactions, new_emus)\n",
    "            new_map.append(new_emu_reactions)\n",
    "            emus.append(new_emus)\n",
    "            # TODO: Find equivalent EMUs\n",
    "            for e in new_emus:\n",
    "                if e not in visited and e not in queue:\n",
    "                    queue.append(e)\n",
    "                if e not in emu_cpd_list[emu_size]:\n",
    "                    emu_cpd_list[emu_size] += [e]\n",
    "        \n",
    "        if len(new_map) > 0:\n",
    "            # emu_maps[emu_size].setdefault(cur_emu, []).append(new_map)\n",
    "            for i in new_map:\n",
    "                emu_maps[emu_size] += i\n",
    "            \n",
    "    return emu_maps, emu_cpd_list\n",
    "\n"
   ]
  },
  {
   "cell_type": "code",
   "execution_count": 9,
   "metadata": {},
   "outputs": [
    {
     "data": {
      "text/plain": [
       "{3: [EMU id: F_123, compound id: F, atom pattern: (1, 2, 3),\n",
       "  EMU id: D_123, compound id: D, atom pattern: (1, 2, 3),\n",
       "  EMU id: C_1, compound id: C, atom pattern: (1,),\n",
       "  EMU id: B_23, compound id: B, atom pattern: (2, 3),\n",
       "  EMU id: B_123, compound id: B, atom pattern: (1, 2, 3),\n",
       "  EMU id: A_123, compound id: A, atom pattern: (1, 2, 3)],\n",
       " 1: [EMU id: C_1, compound id: C, atom pattern: (1,),\n",
       "  EMU id: B_2, compound id: B, atom pattern: (2,),\n",
       "  EMU id: D_2, compound id: D, atom pattern: (2,),\n",
       "  EMU id: A_2, compound id: A, atom pattern: (2,),\n",
       "  EMU id: B_3, compound id: B, atom pattern: (3,),\n",
       "  EMU id: D_3, compound id: D, atom pattern: (3,),\n",
       "  EMU id: A_3, compound id: A, atom pattern: (3,)],\n",
       " 2: [EMU id: D_23, compound id: D, atom pattern: (2, 3),\n",
       "  EMU id: B_23, compound id: B, atom pattern: (2, 3),\n",
       "  EMU id: A_23, compound id: A, atom pattern: (2, 3),\n",
       "  EMU id: C_1, compound id: C, atom pattern: (1,),\n",
       "  EMU id: B_3, compound id: B, atom pattern: (3,)]}"
      ]
     },
     "execution_count": 9,
     "metadata": {},
     "output_type": "execute_result"
    }
   ],
   "source": [
    "f_emu = EMU(id='F_123', compound='F', atom_number_input='123')\n",
    "emu_network, emu_set = decompose_network(f_emu, model.reaction_network)\n",
    "emu_set"
   ]
  },
  {
   "cell_type": "code",
   "execution_count": 10,
   "metadata": {},
   "outputs": [
    {
     "data": {
      "text/plain": [
       "{3: [reaction id: R5, EMU stoichiometry: {'D_123': -1.0, 'F_123': 1.0},\n",
       "  reaction id: R4, EMU stoichiometry: {'B_23': -1.0, 'C_1': -1.0, 'D_123': 1.0},\n",
       "  reaction id: R2, EMU stoichiometry: {'B_123': -1.0, 'D_123': 1.0},\n",
       "  reaction id: R2, EMU stoichiometry: {'B_123': 1.0, 'D_123': -1.0},\n",
       "  reaction id: R1, EMU stoichiometry: {'A_123': -1.0, 'B_123': 1.0}],\n",
       " 1: [reaction id: R3, EMU stoichiometry: {'B_2': -1.0, 'C_1': 1.0},\n",
       "  reaction id: R2, EMU stoichiometry: {'B_2': 1.0, 'D_2': -1.0},\n",
       "  reaction id: R1, EMU stoichiometry: {'A_2': -1.0, 'B_2': 1.0},\n",
       "  reaction id: R4, EMU stoichiometry: {'B_3': -1.0, 'D_2': 1.0},\n",
       "  reaction id: R2, EMU stoichiometry: {'B_2': -1.0, 'D_2': 1.0},\n",
       "  reaction id: R2, EMU stoichiometry: {'B_3': 1.0, 'D_3': -1.0},\n",
       "  reaction id: R1, EMU stoichiometry: {'A_3': -1.0, 'B_3': 1.0},\n",
       "  reaction id: R4, EMU stoichiometry: {'C_1': -1.0, 'D_3': 1.0},\n",
       "  reaction id: R2, EMU stoichiometry: {'B_3': -1.0, 'D_3': 1.0}],\n",
       " 2: [reaction id: R2, EMU stoichiometry: {'B_23': 1.0, 'D_23': -1.0},\n",
       "  reaction id: R1, EMU stoichiometry: {'A_23': -1.0, 'B_23': 1.0},\n",
       "  reaction id: R4, EMU stoichiometry: {'B_3': -1.0, 'C_1': -1.0, 'D_23': 1.0},\n",
       "  reaction id: R2, EMU stoichiometry: {'B_23': -1.0, 'D_23': 1.0}]}"
      ]
     },
     "execution_count": 10,
     "metadata": {},
     "output_type": "execute_result"
    }
   ],
   "source": [
    "emu_network"
   ]
  },
  {
   "cell_type": "code",
   "execution_count": 99,
   "metadata": {},
   "outputs": [
    {
     "name": "stdout",
     "output_type": "stream",
     "text": [
      "     A_2        C_1         B_3  A_3         B_2        D_3        D_2\n",
      "A_2  NaN        NaN         NaN  NaN   [1.0, R1]        NaN        NaN\n",
      "C_1  NaN        NaN         NaN  NaN         NaN  [1.0, R4]        NaN\n",
      "B_3  NaN        NaN         NaN  NaN         NaN  [1.0, R2]  [1.0, R4]\n",
      "A_3  NaN        NaN   [1.0, R1]  NaN         NaN        NaN        NaN\n",
      "B_2  NaN  [1.0, R3]         NaN  NaN         NaN        NaN  [1.0, R2]\n",
      "D_3  NaN        NaN  [-1.0, R2]  NaN         NaN        NaN        NaN\n",
      "D_2  NaN        NaN         NaN  NaN  [-1.0, R2]        NaN        NaN\n"
     ]
    }
   ],
   "source": [
    "import pandas as pd\n",
    "from sympy import Symbol, Mul\n",
    "\n",
    "def create_emu_stoichiometry_matrix(emu_network, emu_size):\n",
    "\n",
    "    # Create matrix indices\n",
    "    reactants = set()\n",
    "    products = set()\n",
    "\n",
    "    for reaction in emu_network[emu_size]:\n",
    "        # Directly extend the sets without checking the length\n",
    "        reactants.update([\" * \".join(reaction.reactants)])\n",
    "        products.update([\" * \".join(reaction.products)])\n",
    "\n",
    "    # Combine reactants and products into a single tuple for output\n",
    "    indices = tuple(reactants.union(products))\n",
    "    \n",
    "    # Initialize the DataFrame with indices for both rows and columns\n",
    "    matrix = pd.DataFrame(index=indices, columns=indices, data=[])\n",
    "    # Populate the matrix\n",
    "    for reaction in emu_network[emu_size]: \n",
    "        row_key, col_key = None, None  # Initialize keys\n",
    "        \n",
    "        for emu_id, stoich in reaction.emu_stoichiometry.items():\n",
    "            if stoich < 0:  # Reactant\n",
    "                for idx in indices:\n",
    "                    # Find the matching reactant row\n",
    "                    if emu_id in idx.split(' * '):\n",
    "                        row_key = idx\n",
    "                        \n",
    "            elif stoich > 0:  # Product\n",
    "                for idx in indices:\n",
    "                    # Find the matching product column\n",
    "                    if emu_id in idx.split(' * '):\n",
    "                        col_key = idx\n",
    "                \n",
    "            # Update the matrix cell with reaction ID and stoichiometry\n",
    "            if row_key and col_key:\n",
    "                cell_value = Mul(stoich, reaction.flux_symbol)\n",
    "                matrix.at[row_key, col_key] = cell_value\n",
    "\n",
    "    return matrix\n",
    "\n",
    "matrix = create_emu_stoichiometry_matrix(emu_network, 1)\n",
    "print(matrix)\n"
   ]
  },
  {
   "cell_type": "code",
   "execution_count": 103,
   "metadata": {},
   "outputs": [
    {
     "ename": "TypeError",
     "evalue": "'float' object is not iterable",
     "output_type": "error",
     "traceback": [
      "\u001b[0;31m---------------------------------------------------------------------------\u001b[0m",
      "\u001b[0;31mTypeError\u001b[0m                                 Traceback (most recent call last)",
      "Cell \u001b[0;32mIn[103], line 35\u001b[0m\n\u001b[1;32m     32\u001b[0m     \u001b[38;5;28;01mreturn\u001b[39;00m processed_matrix\n\u001b[1;32m     34\u001b[0m \u001b[38;5;66;03m# Convert the DataFrames to numpy arrays and process them\u001b[39;00m\n\u001b[0;32m---> 35\u001b[0m matrix_A_np \u001b[38;5;241m=\u001b[39m \u001b[43mprocess_matrix\u001b[49m\u001b[43m(\u001b[49m\u001b[43mmatrix_A\u001b[49m\u001b[43m)\u001b[49m\n\u001b[1;32m     36\u001b[0m matrix_B_np \u001b[38;5;241m=\u001b[39m process_matrix(matrix_B)\n\u001b[1;32m     38\u001b[0m \u001b[38;5;28mprint\u001b[39m(matrix_A_np)\n",
      "Cell \u001b[0;32mIn[103], line 25\u001b[0m, in \u001b[0;36mprocess_matrix\u001b[0;34m(matrix)\u001b[0m\n\u001b[1;32m     22\u001b[0m product \u001b[38;5;241m=\u001b[39m \u001b[38;5;241m1\u001b[39m\n\u001b[1;32m     24\u001b[0m \u001b[38;5;66;03m# If there are multiple items, multiply their fluxes with the stoichiometry\u001b[39;00m\n\u001b[0;32m---> 25\u001b[0m \u001b[43m\u001b[49m\u001b[38;5;28;43;01mfor\u001b[39;49;00m\u001b[43m \u001b[49m\u001b[43mitem\u001b[49m\u001b[43m \u001b[49m\u001b[38;5;129;43;01min\u001b[39;49;00m\u001b[43m \u001b[49m\u001b[43mcell\u001b[49m\u001b[43m:\u001b[49m\n\u001b[1;32m     26\u001b[0m \u001b[43m    \u001b[49m\u001b[43mstoich\u001b[49m\u001b[43m,\u001b[49m\u001b[43m \u001b[49m\u001b[43mreaction_id\u001b[49m\u001b[43m \u001b[49m\u001b[38;5;241;43m=\u001b[39;49m\u001b[43m \u001b[49m\u001b[43mitem\u001b[49m\n\u001b[1;32m     27\u001b[0m \u001b[43m    \u001b[49m\u001b[43mproduct\u001b[49m\u001b[43m \u001b[49m\u001b[38;5;241;43m*\u001b[39;49m\u001b[38;5;241;43m=\u001b[39;49m\u001b[43m \u001b[49m\u001b[43mstoich\u001b[49m\u001b[43m \u001b[49m\u001b[38;5;241;43m*\u001b[39;49m\u001b[43m \u001b[49m\u001b[43mget_flux\u001b[49m\u001b[43m(\u001b[49m\u001b[43mreaction_id\u001b[49m\u001b[43m)\u001b[49m\n",
      "\u001b[0;31mTypeError\u001b[0m: 'float' object is not iterable"
     ]
    }
   ],
   "source": [
    "import numpy as np\n",
    "\n",
    "# Assuming you have a way to get the flux for a reaction ID\n",
    "# For demonstration, here's a mock function that returns a flux value\n",
    "def get_flux(reaction_id):\n",
    "    # Mock flux values\n",
    "    flux_values = {'R1': 0.5, 'R2': 0.8, 'R3': 0.6, 'R4': 0.7}\n",
    "    return flux_values.get(reaction_id, 0)\n",
    "\n",
    "# Function to process and multiply the stoichiometry by the reaction flux\n",
    "def process_matrix(matrix):\n",
    "    # Initialize a new matrix with zeros\n",
    "    processed_matrix = np.zeros(matrix.shape)\n",
    "\n",
    "    # Iterate over the matrix\n",
    "    for i, row in matrix.iterrows():\n",
    "        for j, cell in enumerate(row):\n",
    "            if pd.isnull(cell) or cell == []:\n",
    "                continue  # Skip NaN or empty cells\n",
    "            \n",
    "            # Initialize a variable to hold the product of stoichiometry and flux\n",
    "            product = 1\n",
    "            \n",
    "            # If there are multiple items, multiply their fluxes with the stoichiometry\n",
    "            for item in cell:\n",
    "                stoich, reaction_id = item\n",
    "                product *= stoich * get_flux(reaction_id)\n",
    "            \n",
    "            # Update the processed matrix with the computed product\n",
    "            processed_matrix[i][j] = product\n",
    "\n",
    "    return processed_matrix\n",
    "\n",
    "# Convert the DataFrames to numpy arrays and process them\n",
    "matrix_A_np = process_matrix(matrix_A)\n",
    "matrix_B_np = process_matrix(matrix_B)\n",
    "\n",
    "print(matrix_A_np)\n",
    "print(matrix_B_np)\n",
    "\n"
   ]
  },
  {
   "cell_type": "code",
   "execution_count": 102,
   "metadata": {},
   "outputs": [
    {
     "name": "stdout",
     "output_type": "stream",
     "text": [
      "Matrix A after calculation:\n",
      "     C_1  B_3  B_2   D_3   D_2\n",
      "C_1 -3.0  NaN    0   NaN   NaN\n",
      "B_3  NaN -5.0  NaN     0   NaN\n",
      "B_2  NaN  NaN -5.0   NaN     0\n",
      "D_3    0    0  NaN -12.0   NaN\n",
      "D_2  NaN    0    0   NaN -12.0\n",
      "\n",
      "Matrix B after calculation:\n",
      "     A_2  A_3\n",
      "C_1  NaN  NaN\n",
      "B_3  NaN    0\n",
      "B_2    0  NaN\n",
      "D_3  NaN  NaN\n",
      "D_2  NaN  NaN\n"
     ]
    }
   ],
   "source": [
    "\n",
    "    "
   ]
  },
  {
   "cell_type": "code",
   "execution_count": null,
   "metadata": {},
   "outputs": [],
   "source": []
  }
 ],
 "metadata": {
  "kernelspec": {
   "display_name": "Python 3",
   "language": "python",
   "name": "python3"
  },
  "language_info": {
   "codemirror_mode": {
    "name": "ipython",
    "version": 3
   },
   "file_extension": ".py",
   "mimetype": "text/x-python",
   "name": "python",
   "nbconvert_exporter": "python",
   "pygments_lexer": "ipython3",
   "version": "3.12.0"
  }
 },
 "nbformat": 4,
 "nbformat_minor": 2
}

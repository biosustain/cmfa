{
 "cells": [
  {
   "cell_type": "markdown",
   "metadata": {},
   "source": [
    "# Tutorial with examples"
   ]
  },
  {
   "cell_type": "code",
   "execution_count": 1,
   "metadata": {},
   "outputs": [],
   "source": [
    "from cmfa.fluxomics_data.reaction import Reaction, AtomPattern\n",
    "from cmfa.fluxomics_data.reaction_network import ReactionNetwork\n",
    "from cmfa.data_preparation import load_dataset_from_csv, import_fluxomics_dataset_from_json\n",
    "from cmfa.fluxomics_data.emu import EMU, EMUReaction\n"
   ]
  },
  {
   "cell_type": "code",
   "execution_count": 2,
   "metadata": {},
   "outputs": [
    {
     "data": {
      "text/plain": [
       "'/Users/te/Library/CloudStorage/OneDrive-Personal/Biosustain/cmfa/cmfa/../data/test_data'"
      ]
     },
     "execution_count": 2,
     "metadata": {},
     "output_type": "execute_result"
    }
   ],
   "source": [
    "import os\n",
    "\n",
    "CUR_DIR = os.getcwd()\n",
    "TEST_DIR = f'{CUR_DIR}/../data/test_data'\n",
    "\n",
    "TEST_DIR"
   ]
  },
  {
   "cell_type": "code",
   "execution_count": 3,
   "metadata": {},
   "outputs": [
    {
     "name": "stdout",
     "output_type": "stream",
     "text": [
      "<function reverse_stoichiometry at 0x1351ff420>\n"
     ]
    },
    {
     "name": "stderr",
     "output_type": "stream",
     "text": [
      "/Users/te/Library/CloudStorage/OneDrive-Personal/Biosustain/cmfa/cmfa/fluxomics_data/reaction_network.py:96: UserWarning: adding auto-generated compound id='B' name=None formula=None carbon_label=None fragment_id=None m_z=None\n",
      "  warnings.warn(\n",
      "/Users/te/Library/CloudStorage/OneDrive-Personal/Biosustain/cmfa/cmfa/fluxomics_data/reaction_network.py:96: UserWarning: adding auto-generated compound id='C' name=None formula=None carbon_label=None fragment_id=None m_z=None\n",
      "  warnings.warn(\n",
      "/Users/te/Library/CloudStorage/OneDrive-Personal/Biosustain/cmfa/cmfa/fluxomics_data/reaction_network.py:96: UserWarning: adding auto-generated compound id='D' name=None formula=None carbon_label=None fragment_id=None m_z=None\n",
      "  warnings.warn(\n",
      "/Users/te/Library/CloudStorage/OneDrive-Personal/Biosustain/cmfa/cmfa/fluxomics_data/reaction_network.py:96: UserWarning: adding auto-generated compound id='E' name=None formula=None carbon_label=None fragment_id=None m_z=None\n",
      "  warnings.warn(\n",
      "/Users/te/Library/CloudStorage/OneDrive-Personal/Biosustain/cmfa/cmfa/fluxomics_data/reaction_network.py:96: UserWarning: adding auto-generated compound id='F' name=None formula=None carbon_label=None fragment_id=None m_z=None\n",
      "  warnings.warn(\n",
      "/Users/te/Library/CloudStorage/OneDrive-Personal/Biosustain/cmfa/cmfa/fluxomics_data/reaction_network.py:96: UserWarning: adding auto-generated compound id='A' name=None formula=None carbon_label=None fragment_id=None m_z=None\n",
      "  warnings.warn(\n"
     ]
    }
   ],
   "source": [
    "path_flux = f'{TEST_DIR}/flux.csv'\n",
    "path_ms_measurement = f'{TEST_DIR}/ms_measurements.csv'\n",
    "path_reaction_network = f'{TEST_DIR}/reactions.csv'\n",
    "path_tracer = f'{TEST_DIR}/tracers.csv'\n",
    "\n",
    "model = load_dataset_from_csv(\n",
    "    tracer_file=path_tracer,\n",
    "    flux_measurement_file=path_flux,\n",
    "    mid_measurement_file=path_ms_measurement,\n",
    "    reaction_file=path_reaction_network)"
   ]
  },
  {
   "cell_type": "code",
   "execution_count": 5,
   "metadata": {},
   "outputs": [
    {
     "data": {
      "text/plain": [
       "{Reaction id=R1, name=R1,stoichiometry={'A': {abc: -1.0}, 'B': {abc: 1.0}},reversible=False, ,\n",
       " Reaction id=R2, name=R2,stoichiometry={'B': {abc: -1.0}, 'D': {abc: 1.0}},reversible=True, ,\n",
       " Reaction id=R2_rev, name=R2_rev,stoichiometry={'B': {abc: 1.0}, 'D': {abc: -1.0}},reversible=False, ,\n",
       " Reaction id=R3, name=R3,stoichiometry={'B': {abc: -1.0}, 'C': {bc: 1.0}, 'E': {a: 1.0}},reversible=False, ,\n",
       " Reaction id=R4, name=R4,stoichiometry={'B': {abc: -1.0}, 'C': {de: -1.0}, 'D': {bcd: 1.0}, 'E': {a: 1.0, e: 1.0}},reversible=False, ,\n",
       " Reaction id=R5, name=R5,stoichiometry={'D': {abc: -1.0}, 'F': {abc: 1.0}},reversible=False, }"
      ]
     },
     "execution_count": 5,
     "metadata": {},
     "output_type": "execute_result"
    }
   ],
   "source": [
    "model.reaction_network.reactions"
   ]
  },
  {
   "cell_type": "code",
   "execution_count": 8,
   "metadata": {},
   "outputs": [
    {
     "data": {
      "text/plain": [
       "Reaction id=R2_rev, name=R2_rev,stoichiometry={'B': {abc: 1.0}, 'D': {abc: -1.0}},reversible=False, "
      ]
     },
     "execution_count": 8,
     "metadata": {},
     "output_type": "execute_result"
    }
   ],
   "source": [
    "model.reaction_network.R2_rev"
   ]
  },
  {
   "cell_type": "code",
   "execution_count": 9,
   "metadata": {},
   "outputs": [
    {
     "name": "stdout",
     "output_type": "stream",
     "text": [
      "compound           A         B     C         D               E           F\n",
      "pattern          abc       abc    bc  de   abc   bcd         a     e   abc\n",
      "compound pattern                                                          \n",
      "A        abc      []      [R1]    []  []    []    []        []    []    []\n",
      "B        abc      []        []  [R3]  []  [R2]  [R4]  [R4, R3]    []    []\n",
      "C        bc       []        []    []  []    []    []        []    []    []\n",
      "         de       []        []    []  []    []  [R4]        []  [R4]    []\n",
      "D        abc      []  [R2_rev]    []  []    []    []        []    []  [R5]\n",
      "         bcd      []        []    []  []    []    []        []    []    []\n",
      "E        a        []        []    []  []    []    []        []    []    []\n",
      "         e        []        []    []  []    []    []        []    []    []\n",
      "F        abc      []        []    []  []    []    []        []    []    []\n"
     ]
    }
   ],
   "source": [
    "print(model.reaction_network.reaction_adjacency_matrix())"
   ]
  },
  {
   "cell_type": "code",
   "execution_count": 21,
   "metadata": {},
   "outputs": [
    {
     "name": "stdout",
     "output_type": "stream",
     "text": [
      "([reaction id: R4, EMU stoichiometry: {'B_123': 1.0, 'D_12': -1.0, 'E_1': -1.0}], {EMU id: B_123, compound id: B, atom pattern: (1, 2, 3), EMU id: D_12, compound id: D, atom pattern: (1, 2), EMU id: E_1, compound id: E, atom pattern: (1,)})\n"
     ]
    }
   ],
   "source": [
    "def atom_mapping_to_reaction(emu: EMU, reaction: Reaction, reverse: bool=False) -> list:\n",
    "    \"\"\"\n",
    "    Given an EMU and reaction information, returns an EMUReaction object.\n",
    "    \"\"\"\n",
    "    try:\n",
    "        atom_transitions = reaction.stoichiometry_input[emu.compound].keys()\n",
    "    except:\n",
    "        raise ValueError(f\"Cannot find the EMU compound in the corresponding reaction\")\n",
    "\n",
    "    emu_reactions = []\n",
    "    # Use emu to find matching atoms in given compounds.\n",
    "    # TODO: What if the emu matches two same compounds in reaction\n",
    "    for transition in atom_transitions:\n",
    "        adjusted_indices = [i - 1 for i in emu.atom_number]\n",
    "        try:\n",
    "            matched_atoms = ''.join(transition[i] for i in adjusted_indices)\n",
    "        except:\n",
    "            raise ValueError(f\"Cannot find atoms in compound {emu.compound} with indices {emu.atom_number_input}\")\n",
    "\n",
    "        # Extracting the stoichiometry for the specific EMU\n",
    "        emu_stoichiometry = {}\n",
    "        emu_reactants = {emu}\n",
    "        for cpd, stoich in reaction.stoichiometry_input.items():\n",
    "            # new_stoich = {}\n",
    "            for pattern, coeff in stoich.items():\n",
    "                if cpd == emu.compound: # Add the original EMU\n",
    "                    emu_stoichiometry[emu.id] = -coeff if reverse else coeff\n",
    "\n",
    "                elif (not reverse and coeff < 0) or (reverse and reaction.reversible and coeff > 0):\n",
    "                    # For matched reactants or products in reverse reaction\n",
    "                    reactant_matched_atom_number = _find_matchable_atoms(pattern, matched_atoms)\n",
    "                    if len(reactant_matched_atom_number) != 0:\n",
    "                        emu_id = f\"{cpd}_{reactant_matched_atom_number}\"\n",
    "                        emu_reactants.add(EMU(id=emu_id, compound=cpd, atom_number_input=reactant_matched_atom_number))\n",
    "                        # emu_stoichiometry.setdefault(cpd, {})[reactant_matched_atom_number] = -coeff if reverse else coeff\n",
    "                        emu_stoichiometry[emu_id] = -coeff if reverse else coeff\n",
    "\n",
    "        emu_reactions.append(EMUReaction(reaction_id=reaction.id, emu_stoichiometry=emu_stoichiometry))\n",
    "\n",
    "    return emu_reactions, set(emu_reactants)\n",
    "\n",
    "def _find_matchable_atoms(pattern: str, matched_atoms: str):\n",
    "    \n",
    "    \"\"\"\n",
    "    Finds matchable atoms between a pattern and matched_atoms, returning the positions as a string.\n",
    "    \"\"\"\n",
    "    matched_pattern = [str(pattern.index(char) + 1) for char in matched_atoms if char in pattern]\n",
    "    return ''.join(sorted(matched_pattern))\n",
    "\n",
    "\n",
    "# Example Usage\n",
    "product_emu = EMU(id=\"B_123\", compound=\"B\", atom_number_input=\"123\")\n",
    "reaction = Reaction(id='R4', name='R4', stoichiometry_input={'B': {\"abc\": -1.0}, 'C': {\"de\": -1.0}, 'D': {\"bcd\": 1.0}, 'E': {\"a\": 1.0, \"e\": 1.0}}, reversible=True)\n",
    "\n",
    "emu_reaction = atom_mapping_to_reaction(product_emu, reaction, reverse=True)\n",
    "print(emu_reaction)\n"
   ]
  },
  {
   "cell_type": "code",
   "execution_count": 11,
   "metadata": {},
   "outputs": [],
   "source": [
    "def find_participated_reactions(cur_emu, MAM):\n",
    "    \"\"\"\n",
    "    Identifies the reactions in which a given EMU participates within the Metabolite Adjacency Matrix (MAM).\n",
    "    \n",
    "    Parameters:\n",
    "    - MAM: DataFrame representing the Metabolite Adjacency Matrix with multi-index columns.\n",
    "    - cur_emu: The current EMU object, expected to have at least a 'compound' attribute.\n",
    "    \n",
    "    Returns:\n",
    "    - A DataFrame filtered to show only the reactions (columns) in which the current EMU's compound participates.\n",
    "      The cells are boolean, indicating whether the reaction is non-empty (True) or not (False).\n",
    "    \"\"\"\n",
    "    # Extract reactions for the current EMU's compound\n",
    "    participated_reactions = MAM.xs(cur_emu.compound, level=0, axis=1).map(\n",
    "        lambda x: x if isinstance(x, list) and len(x) > 0 else [])\n",
    "    \n",
    "    all_participated_reactions = set(item for sublist in participated_reactions.values.flatten() for item in sublist)\n",
    "    return all_participated_reactions\n"
   ]
  },
  {
   "cell_type": "code",
   "execution_count": 16,
   "metadata": {},
   "outputs": [],
   "source": [
    "import pandas as pd\n",
    "import re\n",
    "from collections import deque\n",
    "from cmfa.fluxomics_data.emu import EMUMap\n",
    "\n",
    "def decompose_network(\n",
    "    target_EMU: EMU, reaction_network: ReactionNetwork\n",
    ") -> pd.DataFrame:\n",
    "    \"\"\"\n",
    "    Return a EMU map with a list of EMUs based on the target compound from the reaction network. \n",
    "    \"\"\"\n",
    "    MAM = reaction_network.reaction_adjacency_matrix()\n",
    "    queue = deque([target_EMU])\n",
    "    visited = set()\n",
    "    emu_maps = {}\n",
    "    emu_cpd_list = {}\n",
    "\n",
    "    while queue:\n",
    "        # Keep poping new EMU added from previous round.\n",
    "        cur_emu = queue.popleft()\n",
    "        # print(f\"Current EMU: {cur_emu.compound}, have visited {visited}\")\n",
    "        if cur_emu in visited:\n",
    "            continue\n",
    "        visited.add(cur_emu)\n",
    "\n",
    "        # Add new EMU map if the EMU size is not added\n",
    "        emu_size = cur_emu.size\n",
    "        if emu_size not in emu_maps:\n",
    "            emu_maps[emu_size] = []\n",
    "            emu_cpd_list[emu_size] = []\n",
    "        \n",
    "        # Find the reaction that is participated in the current emu\n",
    "        participated_reactions = find_participated_reactions(cur_emu, MAM)\n",
    "        new_map = []\n",
    "        emus = []\n",
    "        for r in participated_reactions:\n",
    "            # Handle forward and reverse case\n",
    "            # if r.endswith('_rev'):\n",
    "            #     new_emu_reactions, new_emus = atom_mapping_to_reaction(cur_emu, reaction_network.find_reaction_by_id(r[:-4]), reverse=True)\n",
    "            # else:\n",
    "            new_emu_reactions, new_emus = atom_mapping_to_reaction(cur_emu, reaction_network.find_reaction_by_id(r), reverse=False)\n",
    "            # print(new_emu_reactions, new_emus)\n",
    "            new_map.append(new_emu_reactions)\n",
    "            emus.append(new_emus)\n",
    "            # TODO: Find equivalent EMUs\n",
    "            for e in new_emus:\n",
    "                if e not in visited and e not in queue:\n",
    "                    queue.append(e)\n",
    "                if e not in emu_cpd_list[emu_size]:\n",
    "                    emu_cpd_list[emu_size] += [e]\n",
    "        \n",
    "        if len(new_map) > 0:\n",
    "            # emu_maps[emu_size].setdefault(cur_emu, []).append(new_map)\n",
    "            for i in new_map:\n",
    "                emu_maps[emu_size] += i\n",
    "            \n",
    "    return EMUMap(emu_map=emu_maps, emu_set=emu_cpd_list)\n",
    "\n"
   ]
  },
  {
   "cell_type": "code",
   "execution_count": 17,
   "metadata": {},
   "outputs": [
    {
     "name": "stdout",
     "output_type": "stream",
     "text": [
      "[reaction id: R5, EMU stoichiometry: {'D_123': -1.0, 'F_123': 1.0}] {EMU id: D_123, compound id: D, atom pattern: (1, 2, 3), EMU id: F_123, compound id: F, atom pattern: (1, 2, 3)}\n",
      "[reaction id: R2, EMU stoichiometry: {'B_123': -1.0, 'D_123': 1.0}] {EMU id: B_123, compound id: B, atom pattern: (1, 2, 3), EMU id: D_123, compound id: D, atom pattern: (1, 2, 3)}\n",
      "[reaction id: R4, EMU stoichiometry: {'B_23': -1.0, 'C_1': -1.0, 'D_123': 1.0}] {EMU id: B_23, compound id: B, atom pattern: (2, 3), EMU id: D_123, compound id: D, atom pattern: (1, 2, 3), EMU id: C_1, compound id: C, atom pattern: (1,)}\n",
      "[reaction id: R1, EMU stoichiometry: {'A_123': -1.0, 'B_123': 1.0}] {EMU id: B_123, compound id: B, atom pattern: (1, 2, 3), EMU id: A_123, compound id: A, atom pattern: (1, 2, 3)}\n",
      "[reaction id: R2_rev, EMU stoichiometry: {'B_123': 1.0, 'D_123': -1.0}] {EMU id: B_123, compound id: B, atom pattern: (1, 2, 3), EMU id: D_123, compound id: D, atom pattern: (1, 2, 3)}\n",
      "[reaction id: R1, EMU stoichiometry: {'A_23': -1.0, 'B_23': 1.0}] {EMU id: B_23, compound id: B, atom pattern: (2, 3), EMU id: A_23, compound id: A, atom pattern: (2, 3)}\n",
      "[reaction id: R2_rev, EMU stoichiometry: {'B_23': 1.0, 'D_23': -1.0}] {EMU id: B_23, compound id: B, atom pattern: (2, 3), EMU id: D_23, compound id: D, atom pattern: (2, 3)}\n",
      "[reaction id: R3, EMU stoichiometry: {'B_2': -1.0, 'C_1': 1.0}] {EMU id: B_2, compound id: B, atom pattern: (2,), EMU id: C_1, compound id: C, atom pattern: (1,)}\n",
      "[reaction id: R2, EMU stoichiometry: {'B_23': -1.0, 'D_23': 1.0}] {EMU id: B_23, compound id: B, atom pattern: (2, 3), EMU id: D_23, compound id: D, atom pattern: (2, 3)}\n",
      "[reaction id: R4, EMU stoichiometry: {'B_3': -1.0, 'C_1': -1.0, 'D_23': 1.0}] {EMU id: D_23, compound id: D, atom pattern: (2, 3), EMU id: B_3, compound id: B, atom pattern: (3,), EMU id: C_1, compound id: C, atom pattern: (1,)}\n",
      "[reaction id: R1, EMU stoichiometry: {'A_2': -1.0, 'B_2': 1.0}] {EMU id: A_2, compound id: A, atom pattern: (2,), EMU id: B_2, compound id: B, atom pattern: (2,)}\n",
      "[reaction id: R2_rev, EMU stoichiometry: {'B_2': 1.0, 'D_2': -1.0}] {EMU id: D_2, compound id: D, atom pattern: (2,), EMU id: B_2, compound id: B, atom pattern: (2,)}\n",
      "[reaction id: R1, EMU stoichiometry: {'A_3': -1.0, 'B_3': 1.0}] {EMU id: B_3, compound id: B, atom pattern: (3,), EMU id: A_3, compound id: A, atom pattern: (3,)}\n",
      "[reaction id: R2_rev, EMU stoichiometry: {'B_3': 1.0, 'D_3': -1.0}] {EMU id: B_3, compound id: B, atom pattern: (3,), EMU id: D_3, compound id: D, atom pattern: (3,)}\n",
      "[reaction id: R2, EMU stoichiometry: {'B_2': -1.0, 'D_2': 1.0}] {EMU id: D_2, compound id: D, atom pattern: (2,), EMU id: B_2, compound id: B, atom pattern: (2,)}\n",
      "[reaction id: R4, EMU stoichiometry: {'B_3': -1.0, 'D_2': 1.0}] {EMU id: D_2, compound id: D, atom pattern: (2,), EMU id: B_3, compound id: B, atom pattern: (3,)}\n",
      "[reaction id: R2, EMU stoichiometry: {'B_3': -1.0, 'D_3': 1.0}] {EMU id: B_3, compound id: B, atom pattern: (3,), EMU id: D_3, compound id: D, atom pattern: (3,)}\n",
      "[reaction id: R4, EMU stoichiometry: {'C_1': -1.0, 'D_3': 1.0}] {EMU id: D_3, compound id: D, atom pattern: (3,), EMU id: C_1, compound id: C, atom pattern: (1,)}\n"
     ]
    },
    {
     "data": {
      "text/plain": [
       "{3: [EMU id: D_123, compound id: D, atom pattern: (1, 2, 3),\n",
       "  EMU id: F_123, compound id: F, atom pattern: (1, 2, 3),\n",
       "  EMU id: B_123, compound id: B, atom pattern: (1, 2, 3),\n",
       "  EMU id: B_23, compound id: B, atom pattern: (2, 3),\n",
       "  EMU id: C_1, compound id: C, atom pattern: (1,),\n",
       "  EMU id: A_123, compound id: A, atom pattern: (1, 2, 3)],\n",
       " 2: [EMU id: B_23, compound id: B, atom pattern: (2, 3),\n",
       "  EMU id: A_23, compound id: A, atom pattern: (2, 3),\n",
       "  EMU id: D_23, compound id: D, atom pattern: (2, 3),\n",
       "  EMU id: B_3, compound id: B, atom pattern: (3,),\n",
       "  EMU id: C_1, compound id: C, atom pattern: (1,)],\n",
       " 1: [EMU id: B_2, compound id: B, atom pattern: (2,),\n",
       "  EMU id: C_1, compound id: C, atom pattern: (1,),\n",
       "  EMU id: A_2, compound id: A, atom pattern: (2,),\n",
       "  EMU id: D_2, compound id: D, atom pattern: (2,),\n",
       "  EMU id: B_3, compound id: B, atom pattern: (3,),\n",
       "  EMU id: A_3, compound id: A, atom pattern: (3,),\n",
       "  EMU id: D_3, compound id: D, atom pattern: (3,)]}"
      ]
     },
     "execution_count": 17,
     "metadata": {},
     "output_type": "execute_result"
    }
   ],
   "source": [
    "f_emu = EMU(id='F_123', compound='F', atom_number_input='123')\n",
    "emu_network, emu_set = decompose_network(f_emu, model.reaction_network)\n",
    "emu_set"
   ]
  },
  {
   "cell_type": "code",
   "execution_count": 18,
   "metadata": {},
   "outputs": [
    {
     "data": {
      "text/plain": [
       "{3: [reaction id: R5, EMU stoichiometry: {'D_123': -1.0, 'F_123': 1.0},\n",
       "  reaction id: R2, EMU stoichiometry: {'B_123': -1.0, 'D_123': 1.0},\n",
       "  reaction id: R4, EMU stoichiometry: {'B_23': -1.0, 'C_1': -1.0, 'D_123': 1.0},\n",
       "  reaction id: R1, EMU stoichiometry: {'A_123': -1.0, 'B_123': 1.0},\n",
       "  reaction id: R2_rev, EMU stoichiometry: {'B_123': 1.0, 'D_123': -1.0}],\n",
       " 2: [reaction id: R1, EMU stoichiometry: {'A_23': -1.0, 'B_23': 1.0},\n",
       "  reaction id: R2_rev, EMU stoichiometry: {'B_23': 1.0, 'D_23': -1.0},\n",
       "  reaction id: R2, EMU stoichiometry: {'B_23': -1.0, 'D_23': 1.0},\n",
       "  reaction id: R4, EMU stoichiometry: {'B_3': -1.0, 'C_1': -1.0, 'D_23': 1.0}],\n",
       " 1: [reaction id: R3, EMU stoichiometry: {'B_2': -1.0, 'C_1': 1.0},\n",
       "  reaction id: R1, EMU stoichiometry: {'A_2': -1.0, 'B_2': 1.0},\n",
       "  reaction id: R2_rev, EMU stoichiometry: {'B_2': 1.0, 'D_2': -1.0},\n",
       "  reaction id: R1, EMU stoichiometry: {'A_3': -1.0, 'B_3': 1.0},\n",
       "  reaction id: R2_rev, EMU stoichiometry: {'B_3': 1.0, 'D_3': -1.0},\n",
       "  reaction id: R2, EMU stoichiometry: {'B_2': -1.0, 'D_2': 1.0},\n",
       "  reaction id: R4, EMU stoichiometry: {'B_3': -1.0, 'D_2': 1.0},\n",
       "  reaction id: R2, EMU stoichiometry: {'B_3': -1.0, 'D_3': 1.0},\n",
       "  reaction id: R4, EMU stoichiometry: {'C_1': -1.0, 'D_3': 1.0}]}"
      ]
     },
     "execution_count": 18,
     "metadata": {},
     "output_type": "execute_result"
    }
   ],
   "source": [
    "emu_network"
   ]
  },
  {
   "cell_type": "code",
   "execution_count": 22,
   "metadata": {},
   "outputs": [
    {
     "name": "stdout",
     "output_type": "stream",
     "text": [
      "     A_3     D_3     D_2     C_1  A_2         B_3         B_2\n",
      "A_3  NaN     NaN     NaN     NaN  NaN      1.0*R1         NaN\n",
      "D_3  NaN     NaN     NaN     NaN  NaN  1.0*R2_rev         NaN\n",
      "D_2  NaN     NaN     NaN     NaN  NaN         NaN  1.0*R2_rev\n",
      "C_1  NaN  1.0*R4     NaN     NaN  NaN         NaN         NaN\n",
      "A_2  NaN     NaN     NaN     NaN  NaN         NaN      1.0*R1\n",
      "B_3  NaN  1.0*R2  1.0*R4     NaN  NaN         NaN         NaN\n",
      "B_2  NaN     NaN  1.0*R2  1.0*R3  NaN         NaN         NaN\n"
     ]
    }
   ],
   "source": [
    "import pandas as pd\n",
    "from sympy import Symbol, Mul\n",
    "\n",
    "def create_emu_stoichiometry_matrix(emu_network, emu_size):\n",
    "\n",
    "    # Create matrix indices\n",
    "    reactants = set()\n",
    "    products = set()\n",
    "\n",
    "    for reaction in emu_network[emu_size]:\n",
    "        # Directly extend the sets without checking the length\n",
    "        reactants.update([\" * \".join(reaction.reactants)])\n",
    "        products.update([\" * \".join(reaction.products)])\n",
    "\n",
    "    # Combine reactants and products into a single tuple for output\n",
    "    indices = tuple(reactants.union(products))\n",
    "    \n",
    "    # Initialize the DataFrame with indices for both rows and columns\n",
    "    matrix = pd.DataFrame(index=indices, columns=indices, data=[])\n",
    "    # Populate the matrix\n",
    "    for reaction in emu_network[emu_size]: \n",
    "        row_key, col_key = None, None  # Initialize keys\n",
    "        \n",
    "        for emu_id, stoich in reaction.emu_stoichiometry.items():\n",
    "            if stoich < 0:  # Reactant\n",
    "                for idx in indices:\n",
    "                    # Find the matching reactant row\n",
    "                    if emu_id in idx.split(' * '):\n",
    "                        row_key = idx\n",
    "                        \n",
    "            elif stoich > 0:  # Product\n",
    "                for idx in indices:\n",
    "                    # Find the matching product column\n",
    "                    if emu_id in idx.split(' * '):\n",
    "                        col_key = idx\n",
    "                \n",
    "            # Update the matrix cell with reaction ID and stoichiometry\n",
    "            if row_key and col_key:\n",
    "                cell_value = abs(stoich) * reaction.flux_symbol\n",
    "                matrix.at[row_key, col_key] = cell_value\n",
    "\n",
    "    return matrix\n",
    "\n",
    "matrix = create_emu_stoichiometry_matrix(emu_network, 1)\n",
    "print(matrix)\n"
   ]
  },
  {
   "cell_type": "code",
   "execution_count": 33,
   "metadata": {},
   "outputs": [
    {
     "data": {
      "text/html": [
       "<div>\n",
       "<style scoped>\n",
       "    .dataframe tbody tr th:only-of-type {\n",
       "        vertical-align: middle;\n",
       "    }\n",
       "\n",
       "    .dataframe tbody tr th {\n",
       "        vertical-align: top;\n",
       "    }\n",
       "\n",
       "    .dataframe thead th {\n",
       "        text-align: right;\n",
       "    }\n",
       "</style>\n",
       "<table border=\"1\" class=\"dataframe\">\n",
       "  <thead>\n",
       "    <tr style=\"text-align: right;\">\n",
       "      <th></th>\n",
       "      <th>D_3</th>\n",
       "      <th>D_2</th>\n",
       "      <th>C_1</th>\n",
       "      <th>B_3</th>\n",
       "      <th>B_2</th>\n",
       "    </tr>\n",
       "  </thead>\n",
       "  <tbody>\n",
       "    <tr>\n",
       "      <th>D_3</th>\n",
       "      <td>-1.0*R2 - 1.0*R4</td>\n",
       "      <td>NaN</td>\n",
       "      <td>1.0*R4</td>\n",
       "      <td>1.0*R2</td>\n",
       "      <td>NaN</td>\n",
       "    </tr>\n",
       "    <tr>\n",
       "      <th>D_2</th>\n",
       "      <td>NaN</td>\n",
       "      <td>-1.0*R2 - 1.0*R4</td>\n",
       "      <td>NaN</td>\n",
       "      <td>1.0*R4</td>\n",
       "      <td>1.0*R2</td>\n",
       "    </tr>\n",
       "    <tr>\n",
       "      <th>C_1</th>\n",
       "      <td>NaN</td>\n",
       "      <td>NaN</td>\n",
       "      <td>-1.0*R3</td>\n",
       "      <td>NaN</td>\n",
       "      <td>1.0*R3</td>\n",
       "    </tr>\n",
       "    <tr>\n",
       "      <th>B_3</th>\n",
       "      <td>1.0*R2_rev</td>\n",
       "      <td>NaN</td>\n",
       "      <td>NaN</td>\n",
       "      <td>-1.0*R1 - 1.0*R2_rev</td>\n",
       "      <td>NaN</td>\n",
       "    </tr>\n",
       "    <tr>\n",
       "      <th>B_2</th>\n",
       "      <td>NaN</td>\n",
       "      <td>1.0*R2_rev</td>\n",
       "      <td>NaN</td>\n",
       "      <td>NaN</td>\n",
       "      <td>-1.0*R1 - 1.0*R2_rev</td>\n",
       "    </tr>\n",
       "  </tbody>\n",
       "</table>\n",
       "</div>"
      ],
      "text/plain": [
       "                  D_3               D_2      C_1                   B_3  \\\n",
       "D_3  -1.0*R2 - 1.0*R4               NaN   1.0*R4                1.0*R2   \n",
       "D_2               NaN  -1.0*R2 - 1.0*R4      NaN                1.0*R4   \n",
       "C_1               NaN               NaN  -1.0*R3                   NaN   \n",
       "B_3        1.0*R2_rev               NaN      NaN  -1.0*R1 - 1.0*R2_rev   \n",
       "B_2               NaN        1.0*R2_rev      NaN                   NaN   \n",
       "\n",
       "                      B_2  \n",
       "D_3                   NaN  \n",
       "D_2                1.0*R2  \n",
       "C_1                1.0*R3  \n",
       "B_3                   NaN  \n",
       "B_2  -1.0*R1 - 1.0*R2_rev  "
      ]
     },
     "execution_count": 33,
     "metadata": {},
     "output_type": "execute_result"
    }
   ],
   "source": [
    "def process_and_split_matrix(matrix):\n",
    "    \"\"\"\n",
    "    Return A and B matrices according to the EMU algorithm.\n",
    "\n",
    "    Parameters\n",
    "    ----------\n",
    "    matrix : pd.DataFrame\n",
    "        The matrix to be processed and split, typically representing stoichiometries or interactions within an EMU network.\n",
    "\n",
    "    Returns\n",
    "    -------\n",
    "    tuple of pd.DataFrame\n",
    "        A tuple containing two pandas DataFrames after splitting and processing the input matrix. The first matrix's diagonal is adjusted to include non-NaN values from corresponding rows.\n",
    "    \"\"\"\n",
    "    # Remove columns with all NaN values\n",
    "    cleaned_matrix = matrix.dropna(axis=1, how=\"all\")\n",
    "\n",
    "    # Identify the row indices to split the matrix\n",
    "    split_indices = [\n",
    "        idx for idx in matrix.index if idx not in cleaned_matrix.columns\n",
    "    ]\n",
    "\n",
    "    # Split the matrix into two based on the identified indices\n",
    "    matrix_A = (cleaned_matrix.loc[~cleaned_matrix.index.isin(split_indices)]).T\n",
    "    matrix_B = (cleaned_matrix.loc[cleaned_matrix.index.isin(split_indices)]).T\n",
    "    \n",
    "\n",
    "    # Adjust the diagonal of the first matrix\n",
    "    for i in range(len(matrix_A)):\n",
    "        non_nan_values = (\n",
    "            matrix_A.iloc[i].dropna().tolist()\n",
    "            + matrix_B.iloc[i].dropna().tolist()\n",
    "        )\n",
    "        updated_values = 0\n",
    "        for item in non_nan_values:\n",
    "            # Copy the list to avoid modifying the original matrices\n",
    "            updated_values += -1 * item.copy()\n",
    "\n",
    "        # Assign the updated list to the diagonal element\n",
    "        matrix_A.iat[i, i] = updated_values\n",
    "        \n",
    "    matrix_B = matrix_B.map(lambda x: -x if not pd.isnull(x) else x)\n",
    "\n",
    "    return matrix_A, matrix_B\n",
    "\n",
    "matrix_1, matrix_2 = process_and_split_matrix(matrix)\n",
    "matrix_1\n"
   ]
  },
  {
   "cell_type": "code",
   "execution_count": 34,
   "metadata": {},
   "outputs": [
    {
     "data": {
      "text/html": [
       "<div>\n",
       "<style scoped>\n",
       "    .dataframe tbody tr th:only-of-type {\n",
       "        vertical-align: middle;\n",
       "    }\n",
       "\n",
       "    .dataframe tbody tr th {\n",
       "        vertical-align: top;\n",
       "    }\n",
       "\n",
       "    .dataframe thead th {\n",
       "        text-align: right;\n",
       "    }\n",
       "</style>\n",
       "<table border=\"1\" class=\"dataframe\">\n",
       "  <thead>\n",
       "    <tr style=\"text-align: right;\">\n",
       "      <th></th>\n",
       "      <th>A_3</th>\n",
       "      <th>A_2</th>\n",
       "    </tr>\n",
       "  </thead>\n",
       "  <tbody>\n",
       "    <tr>\n",
       "      <th>D_3</th>\n",
       "      <td>NaN</td>\n",
       "      <td>NaN</td>\n",
       "    </tr>\n",
       "    <tr>\n",
       "      <th>D_2</th>\n",
       "      <td>NaN</td>\n",
       "      <td>NaN</td>\n",
       "    </tr>\n",
       "    <tr>\n",
       "      <th>C_1</th>\n",
       "      <td>NaN</td>\n",
       "      <td>NaN</td>\n",
       "    </tr>\n",
       "    <tr>\n",
       "      <th>B_3</th>\n",
       "      <td>-1.0*R1</td>\n",
       "      <td>NaN</td>\n",
       "    </tr>\n",
       "    <tr>\n",
       "      <th>B_2</th>\n",
       "      <td>NaN</td>\n",
       "      <td>-1.0*R1</td>\n",
       "    </tr>\n",
       "  </tbody>\n",
       "</table>\n",
       "</div>"
      ],
      "text/plain": [
       "         A_3      A_2\n",
       "D_3      NaN      NaN\n",
       "D_2      NaN      NaN\n",
       "C_1      NaN      NaN\n",
       "B_3  -1.0*R1      NaN\n",
       "B_2      NaN  -1.0*R1"
      ]
     },
     "execution_count": 34,
     "metadata": {},
     "output_type": "execute_result"
    }
   ],
   "source": [
    "matrix_2"
   ]
  },
  {
   "cell_type": "code",
   "execution_count": 35,
   "metadata": {},
   "outputs": [
    {
     "name": "stdout",
     "output_type": "stream",
     "text": [
      "Matrix 1:\n",
      "[[-130.    0.   20.  110.    0.]\n",
      " [   0. -130.    0.   20.  110.]\n",
      " [   0.    0.  -20.    0.   20.]\n",
      " [  50.    0.    0. -150.    0.]\n",
      " [   0.   50.    0.    0. -150.]]\n",
      "\n",
      "Matrix 2:\n",
      "[[   0.    0.]\n",
      " [   0.    0.]\n",
      " [   0.    0.]\n",
      " [-100.    0.]\n",
      " [   0. -100.]]\n"
     ]
    }
   ],
   "source": [
    "import numpy as np\n",
    "import sympy as sp\n",
    "\n",
    "# Define the reactions as sympy symbols\n",
    "R1, R2, R2_rev, R3, R4, R5 = sp.symbols('R1 R2 R2_rev R3 R4 R5')\n",
    "\n",
    "# Define the reaction rates\n",
    "reaction_rates = {R1: 100, R2: 110, R2_rev: 50, R3: 20, R4: 20, R5: 80}\n",
    "\n",
    "def process_matrix(matrix_df, reaction_rates):\n",
    "    # Define the lambda function for substitution and conversion\n",
    "    process_element = lambda x: float(x.subs(reaction_rates)) if isinstance(x, sp.Expr) else 0\n",
    "    \n",
    "    # Apply the lambda function to each element in the DataFrame\n",
    "    processed_matrix = matrix_df.map(process_element)\n",
    "\n",
    "    # Convert the processed DataFrame to a NumPy array\n",
    "    return processed_matrix.to_numpy(dtype=float)\n",
    "\n",
    "# Applying the function to the matrices\n",
    "matrix_np_1 = process_matrix(matrix_1, reaction_rates)\n",
    "matrix_np_2 = process_matrix(matrix_2, reaction_rates)\n",
    "\n",
    "print(\"Matrix 1:\")\n",
    "print(matrix_np_1)\n",
    "\n",
    "print(\"\\nMatrix 2:\")\n",
    "print(matrix_np_2)\n"
   ]
  },
  {
   "cell_type": "code",
   "execution_count": 36,
   "metadata": {},
   "outputs": [],
   "source": [
    "Y = np.matrix([[1,0], [0,1]])"
   ]
  },
  {
   "cell_type": "code",
   "execution_count": 37,
   "metadata": {},
   "outputs": [],
   "source": [
    "X = np.linalg.inv(matrix_np_1) @  matrix_np_2 @ Y"
   ]
  },
  {
   "cell_type": "code",
   "execution_count": 38,
   "metadata": {},
   "outputs": [
    {
     "data": {
      "text/plain": [
       "matrix([[0.8       , 0.2       ],\n",
       "        [0.2       , 0.8       ],\n",
       "        [0.06666667, 0.93333333],\n",
       "        [0.93333333, 0.06666667],\n",
       "        [0.06666667, 0.93333333]])"
      ]
     },
     "execution_count": 38,
     "metadata": {},
     "output_type": "execute_result"
    }
   ],
   "source": [
    "X"
   ]
  },
  {
   "cell_type": "code",
   "execution_count": null,
   "metadata": {},
   "outputs": [],
   "source": []
  }
 ],
 "metadata": {
  "kernelspec": {
   "display_name": "Python 3",
   "language": "python",
   "name": "python3"
  },
  "language_info": {
   "codemirror_mode": {
    "name": "ipython",
    "version": 3
   },
   "file_extension": ".py",
   "mimetype": "text/x-python",
   "name": "python",
   "nbconvert_exporter": "python",
   "pygments_lexer": "ipython3",
   "version": "3.12.0"
  }
 },
 "nbformat": 4,
 "nbformat_minor": 2
}

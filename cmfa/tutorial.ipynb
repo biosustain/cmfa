{
 "cells": [
  {
   "cell_type": "markdown",
   "metadata": {},
   "source": [
    "# Tutorial with examples"
   ]
  },
  {
   "cell_type": "code",
   "execution_count": 1,
   "metadata": {},
   "outputs": [],
   "source": [
    "from cmfa.fluxomics_data.reaction import Reaction\n",
    "from cmfa.fluxomics_data.reaction_network import ReactionNetwork\n",
    "from cmfa.data_preparation import import_fluxomics_dataset_from_json\n"
   ]
  },
  {
   "cell_type": "code",
   "execution_count": 2,
   "metadata": {},
   "outputs": [
    {
     "data": {
      "text/plain": [
       "'/Users/te/Library/CloudStorage/OneDrive-Personal/Biosustain/cmfa/cmfa/../data/test_data'"
      ]
     },
     "execution_count": 2,
     "metadata": {},
     "output_type": "execute_result"
    }
   ],
   "source": [
    "import os\n",
    "\n",
    "CUR_DIR = os.getcwd()\n",
    "TEST_DIR = f'{CUR_DIR}/../data/test_data'\n",
    "\n",
    "TEST_DIR"
   ]
  },
  {
   "cell_type": "code",
   "execution_count": 3,
   "metadata": {},
   "outputs": [],
   "source": [
    "model = import_fluxomics_dataset_from_json(f'{TEST_DIR}/model.json')"
   ]
  },
  {
   "cell_type": "code",
   "execution_count": 4,
   "metadata": {},
   "outputs": [
    {
     "data": {
      "text/plain": [
       "{Reaction id=R1, name=R1,stoichiometry={'A': {abc: -1.0}, 'B': {abc: 1.0}},direction=False, ,\n",
       " Reaction id=R2, name=R2,stoichiometry={'B': {abc: -1.0}, 'D': {abc: 1.0}},direction=True, ,\n",
       " Reaction id=R3, name=R3,stoichiometry={'B': {abc: -1.0}, 'C': {bc: 1.0}, 'E': {a: 1.0}},direction=False, ,\n",
       " Reaction id=R4, name=R4,stoichiometry={'B': {abc: -1.0}, 'C': {de: -1.0}, 'D': {bcd: 1.0}, 'E': {a: 1.0, e: 1.0}},direction=False, ,\n",
       " Reaction id=R5, name=R5,stoichiometry={'D': {abc: -1.0}, 'F': {abc: 1.0}},direction=False, }"
      ]
     },
     "execution_count": 4,
     "metadata": {},
     "output_type": "execute_result"
    }
   ],
   "source": [
    "model.reaction_network.reactions"
   ]
  },
  {
   "cell_type": "code",
   "execution_count": 5,
   "metadata": {},
   "outputs": [
    {
     "name": "stdout",
     "output_type": "stream",
     "text": [
      "compound           A       B     C           D               E           F\n",
      "pattern          abc     abc    bc  de     abc   bcd         a     e   abc\n",
      "compound pattern                                                          \n",
      "A        abc      []    [R1]    []  []      []    []        []    []    []\n",
      "B        abc      []      []  [R3]  []  [R2_f]  [R4]  [R3, R4]    []    []\n",
      "C        bc       []      []    []  []      []    []        []    []    []\n",
      "         de       []      []    []  []      []  [R4]        []  [R4]    []\n",
      "D        abc      []  [R2_r]    []  []      []    []        []    []  [R5]\n",
      "         bcd      []      []    []  []      []    []        []    []    []\n",
      "E        a        []      []    []  []      []    []        []    []    []\n",
      "         e        []      []    []  []      []    []        []    []    []\n",
      "F        abc      []      []    []  []      []    []        []    []    []\n"
     ]
    }
   ],
   "source": [
    "print(model.reaction_network.reaction_adjacency_matrix())"
   ]
  },
  {
   "cell_type": "code",
   "execution_count": 6,
   "metadata": {},
   "outputs": [
    {
     "name": "stdout",
     "output_type": "stream",
     "text": [
      "Row: ('D', 'abc'), Value: ['R5']\n"
     ]
    }
   ],
   "source": [
    "df = model.reaction_network.reaction_adjacency_matrix()\n",
    "column_data = df[('F', 'abc')]\n",
    "\n",
    "# Step 2: Filter for non-empty cells\n",
    "# Assuming non-empty cells contain lists with at least one element, and empty cells contain empty lists.\n",
    "non_empty_cells = column_data[column_data.apply(lambda x: len(x)>0)]\n",
    "\n",
    "# Step 3: Retrieve the non-empty values and their corresponding rows\n",
    "for index, value in non_empty_cells.items():\n",
    "    print(f\"Row: {index}, Value: {value}\")"
   ]
  },
  {
   "cell_type": "code",
   "execution_count": 43,
   "metadata": {},
   "outputs": [],
   "source": [
    "import pandas as pd\n",
    "import re\n",
    "from collections import deque\n",
    "\n",
    "def _extract_atom_pattern(compound_pattern: str):\n",
    "    \"\"\"Extract the atom pattern from a compound pattern string.\n",
    "\n",
    "    Parameters\n",
    "    ----------\n",
    "    compound_pattern : str\n",
    "        The compound pattern string, e.g., \"Glu(abcde)\".\n",
    "\n",
    "    Returns\n",
    "    -------\n",
    "    str\n",
    "        The extracted atom pattern, e.g., \"abcde\".\n",
    "    \"\"\"\n",
    "    match = re.search(r'(.+)\\((.+)\\)', compound_pattern)\n",
    "    if match:\n",
    "        compound, pattern = match.groups()\n",
    "        return compound, pattern \n",
    "    else:\n",
    "        raise ValueError(f\"No atom pattern found in the input: {compound}\")\n",
    "\n",
    "def decompose_network(\n",
    "    target_compound: str, reaction_network: ReactionNetwork\n",
    ") -> pd.DataFrame:\n",
    "    \n",
    "\n",
    "    MAM = reaction_network.reaction_adjacency_matrix()\n",
    "    queue = deque([target_compound])\n",
    "    visited = set()\n",
    "    emu_maps = {}\n",
    "\n",
    "    while queue:\n",
    "        cur_emu = queue.popleft()\n",
    "        print(cur_emu)\n",
    "        if cur_emu in visited:\n",
    "            continue\n",
    "        \n",
    "        visited.add(cur_emu)\n",
    "\n",
    "        # Pattern matching\n",
    "        cpd, pat = cur_emu[0], cur_emu[1]\n",
    "        emu_size = len(pat)\n",
    "        if emu_size not in emu_maps:\n",
    "            emu_maps[emu_size] = {}\n",
    "        \n",
    "        # Find the reaction that is participated in the current emu\n",
    "        col = MAM[cur_emu]\n",
    "        reactants = col[col.apply(lambda x: len(x)>0)]\n",
    "        queue.append(tuple(reactants.index))\n",
    "        print(queue)\n",
    "        for next_emu in reactants:\n",
    "            emu_maps[emu_size].setdefault(emu_size, []).append(next_emu)\n",
    "\n",
    "            \n",
    "    return emu_maps"
   ]
  },
  {
   "cell_type": "code",
   "execution_count": 44,
   "metadata": {},
   "outputs": [
    {
     "name": "stdout",
     "output_type": "stream",
     "text": [
      "deque([(('D', 'abc'),)])\n",
      "['R5']\n"
     ]
    },
    {
     "ename": "IndexError",
     "evalue": "tuple index out of range",
     "output_type": "error",
     "traceback": [
      "\u001b[0;31m---------------------------------------------------------------------------\u001b[0m",
      "\u001b[0;31mIndexError\u001b[0m                                Traceback (most recent call last)",
      "Cell \u001b[0;32mIn[44], line 1\u001b[0m\n\u001b[0;32m----> 1\u001b[0m \u001b[43mdecompose_network\u001b[49m\u001b[43m(\u001b[49m\u001b[43m(\u001b[49m\u001b[38;5;124;43m'\u001b[39;49m\u001b[38;5;124;43mF\u001b[39;49m\u001b[38;5;124;43m'\u001b[39;49m\u001b[43m,\u001b[49m\u001b[38;5;124;43m'\u001b[39;49m\u001b[38;5;124;43mabc\u001b[39;49m\u001b[38;5;124;43m'\u001b[39;49m\u001b[43m)\u001b[49m\u001b[43m,\u001b[49m\u001b[43m \u001b[49m\u001b[43mmodel\u001b[49m\u001b[38;5;241;43m.\u001b[39;49m\u001b[43mreaction_network\u001b[49m\u001b[43m)\u001b[49m\n",
      "Cell \u001b[0;32mIn[43], line 43\u001b[0m, in \u001b[0;36mdecompose_network\u001b[0;34m(target_compound, reaction_network)\u001b[0m\n\u001b[1;32m     40\u001b[0m visited\u001b[38;5;241m.\u001b[39madd(cur_emu)\n\u001b[1;32m     42\u001b[0m \u001b[38;5;66;03m# Pattern matching\u001b[39;00m\n\u001b[0;32m---> 43\u001b[0m cpd, pat \u001b[38;5;241m=\u001b[39m cur_emu[\u001b[38;5;241m0\u001b[39m], \u001b[43mcur_emu\u001b[49m\u001b[43m[\u001b[49m\u001b[38;5;241;43m1\u001b[39;49m\u001b[43m]\u001b[49m\n\u001b[1;32m     44\u001b[0m emu_size \u001b[38;5;241m=\u001b[39m \u001b[38;5;28mlen\u001b[39m(pat)\n\u001b[1;32m     45\u001b[0m \u001b[38;5;28;01mif\u001b[39;00m emu_size \u001b[38;5;129;01mnot\u001b[39;00m \u001b[38;5;129;01min\u001b[39;00m emu_maps:\n",
      "\u001b[0;31mIndexError\u001b[0m: tuple index out of range"
     ]
    }
   ],
   "source": [
    "decompose_network(('F','abc'), model.reaction_network)"
   ]
  },
  {
   "cell_type": "code",
   "execution_count": 28,
   "metadata": {},
   "outputs": [
    {
     "ename": "TypeError",
     "evalue": "tuple indices must be integers or slices, not str",
     "output_type": "error",
     "traceback": [
      "\u001b[0;31m---------------------------------------------------------------------------\u001b[0m",
      "\u001b[0;31mTypeError\u001b[0m                                 Traceback (most recent call last)",
      "Cell \u001b[0;32mIn[28], line 2\u001b[0m\n\u001b[1;32m      1\u001b[0m target_compound \u001b[38;5;241m=\u001b[39m pd\u001b[38;5;241m.\u001b[39mMultiIndex\u001b[38;5;241m.\u001b[39mfrom_tuples([(\u001b[38;5;124m'\u001b[39m\u001b[38;5;124mac\u001b[39m\u001b[38;5;124m'\u001b[39m,\u001b[38;5;124m'\u001b[39m\u001b[38;5;124mabc\u001b[39m\u001b[38;5;124m'\u001b[39m), (\u001b[38;5;124m'\u001b[39m\u001b[38;5;124mac\u001b[39m\u001b[38;5;124m'\u001b[39m,\u001b[38;5;124m'\u001b[39m\u001b[38;5;124mad\u001b[39m\u001b[38;5;124m'\u001b[39m)], name\u001b[38;5;241m=\u001b[39m(\u001b[38;5;124m'\u001b[39m\u001b[38;5;124ma\u001b[39m\u001b[38;5;124m'\u001b[39m, \u001b[38;5;124m'\u001b[39m\u001b[38;5;124mb\u001b[39m\u001b[38;5;124m'\u001b[39m))\n\u001b[0;32m----> 2\u001b[0m \u001b[43mtarget_compound\u001b[49m\u001b[43m[\u001b[49m\u001b[38;5;241;43m1\u001b[39;49m\u001b[43m]\u001b[49m\u001b[43m[\u001b[49m\u001b[38;5;124;43m'\u001b[39;49m\u001b[38;5;124;43ma\u001b[39;49m\u001b[38;5;124;43m'\u001b[39;49m\u001b[43m]\u001b[49m\n",
      "\u001b[0;31mTypeError\u001b[0m: tuple indices must be integers or slices, not str"
     ]
    }
   ],
   "source": [
    "target_compound = pd.MultiIndex.from_tuples([('ac','abc'), ('ac','ad')], name=('a', 'b'))\n",
    "target_compound[1]['a']"
   ]
  }
 ],
 "metadata": {
  "kernelspec": {
   "display_name": "Python 3",
   "language": "python",
   "name": "python3"
  },
  "language_info": {
   "codemirror_mode": {
    "name": "ipython",
    "version": 3
   },
   "file_extension": ".py",
   "mimetype": "text/x-python",
   "name": "python",
   "nbconvert_exporter": "python",
   "pygments_lexer": "ipython3",
   "version": "3.12.0"
  }
 },
 "nbformat": 4,
 "nbformat_minor": 2
}
